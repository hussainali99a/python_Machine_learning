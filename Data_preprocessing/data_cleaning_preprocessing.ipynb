X=mydata.drop('Life expectancy ',axis=1)
y=mydata['Life expectancy ']

y

        Year  Life expectancy   Adult Mortality  infant deaths  Alcohol  \
0     2015.0              65.0            263.0           55.0     0.01   
1     2014.0              59.9            271.0           55.0     0.01   
2     2013.0              59.9            268.0           55.0     0.01   
3     2012.0              59.5            272.0           55.0     0.01   
4     2011.0              59.2            275.0           55.0     0.01   
...      ...               ...              ...            ...      ...   
2933  2004.0              44.3            456.5           27.0     4.36   
2934  2003.0              44.5            456.5           26.0     4.06   
2935  2002.0              44.8             73.0           25.0     4.43   
2936  2001.0              45.3            456.5           25.0     1.72   
2937  2000.0              46.0            456.5           24.0     1.68   

      percentage expenditure  Hepatitis B  Measles    BMI   \
0                  71.279624    65.000000   900.625   19.1   
1                  73.523582    62.000000   492.000   18.6   
2                  73.219243    64.000000   430.000   18.1   
3                  78.184215    67.000000   900.625   17.6   
4                   7.097109    68.000000   900.625   17.2   
...                      ...          ...       ...    ...   
2933                0.000000    68.000000    31.000   27.1   
2934                0.000000    58.351153   900.625   26.7   
2935                0.000000    73.000000   304.000   26.3   
2936                0.000000    76.000000   529.000   25.9   
2937                0.000000    79.000000   900.625   25.5   
...
2936              0               0                 1                  1  
2937              0               0                 1                  1  

[2938 rows x 213 columns]
Output is truncated. View as a scrollable element or open in a text editor. Adjust cell output settings...











hello world
Missing value count:
Country                              0
Year                                 0
Status                               0
Life expectancy                     10
Adult Mortality                     10
infant deaths                        0
Alcohol                            194
percentage expenditure               0
Hepatitis B                        553
Measles                              0
 BMI                                34
under-five deaths                    0
Polio                               19
Total expenditure                  226
Diphtheria                          19
 HIV/AIDS                            0
GDP                                448
Population                         652
 thinness  1-19 years               34
 thinness 5-9 years                 34
Income composition of resources    167
Schooling                          163
dtype: int64
Country
Afghanistan              16
Peru                     16
Nicaragua                16
Niger                    16
Nigeria                  16
                         ..
Niue                      1
San Marino                1
Nauru                     1
Saint Kitts and Nevis     1
Dominica                  1
Name: count, Length: 193, dtype: int64
****************************************
Status
Developing    2426
Developed      512
Name: count, dtype: int64
****************************************
Index(['Year', 'Life expectancy ', 'Adult Mortality', 'infant deaths',
       'Alcohol', 'percentage expenditure', 'Hepatitis B', 'Measles ', ' BMI ',
       'under-five deaths ', 'Polio', 'Total expenditure', 'Diphtheria ',
       ' HIV/AIDS', 'GDP', 'Population', ' thinness  1-19 years',
       ' thinness 5-9 years', 'Income composition of resources', 'Schooling'],
      dtype='object')
Country                              0
Year                                 0
Status                               0
Life expectancy                     10
Adult Mortality                     10
infant deaths                        0
Alcohol                            194
percentage expenditure               0
Hepatitis B                        553
Measles                              0
 BMI                                34
under-five deaths                    0
Polio                               19
Total expenditure                  226
Diphtheria                          19
 HIV/AIDS                            0
GDP                                448
Population                         652
 thinness  1-19 years               34
 thinness 5-9 years                 34
Income composition of resources    167
Schooling                          163
dtype: int64
Country                            0
Year                               0
Status                             0
Life expectancy                    0
Adult Mortality                    0
infant deaths                      0
Alcohol                            0
percentage expenditure             0
Hepatitis B                        0
Measles                            0
 BMI                               0
under-five deaths                  0
Polio                              0
Total expenditure                  0
Diphtheria                         0
 HIV/AIDS                          0
GDP                                0
Population                         0
 thinness  1-19 years              0
 thinness 5-9 years                0
Income composition of resources    0
Schooling                          0
dtype: int64
Country	Year	Status	Life expectancy	Adult Mortality	infant deaths	Alcohol	percentage expenditure	Hepatitis B	Measles	...	Polio	Total expenditure	Diphtheria	HIV/AIDS	GDP	Population	thinness 1-19 years	thinness 5-9 years	Income composition of resources	Schooling
0	Afghanistan	2015.0	Developing	65.0	263.0	55.0	0.01	71.279624	65.000000	900.625	...	49.5	8.16	65.0	0.10	584.259210	3.125506e+07	15.35	15.6	0.479	10.1
1	Afghanistan	2014.0	Developing	59.9	271.0	55.0	0.01	73.523582	62.000000	492.000	...	58.0	8.18	62.0	0.10	612.696514	3.275820e+05	15.35	15.6	0.476	10.0
2	Afghanistan	2013.0	Developing	59.9	268.0	55.0	0.01	73.219243	64.000000	430.000	...	62.0	8.13	64.0	0.10	631.744976	3.125506e+07	15.35	15.6	0.470	9.9
3	Afghanistan	2012.0	Developing	59.5	272.0	55.0	0.01	78.184215	67.000000	900.625	...	67.0	8.52	67.0	0.10	669.959000	3.696958e+06	15.35	15.6	0.463	9.8
4	Afghanistan	2011.0	Developing	59.2	275.0	55.0	0.01	7.097109	68.000000	900.625	...	68.0	7.87	68.0	0.10	63.537231	2.978599e+06	15.35	15.6	0.454	9.5
...	...	...	...	...	...	...	...	...	...	...	...	...	...	...	...	...	...	...	...	...	...
2933	Zimbabwe	2004.0	Developing	44.3	456.5	27.0	4.36	0.000000	68.000000	31.000	...	67.0	7.13	65.0	1.85	454.366654	1.277751e+07	9.40	9.4	0.407	9.2
2934	Zimbabwe	2003.0	Developing	44.5	456.5	26.0	4.06	0.000000	58.351153	900.625	...	49.5	6.52	68.0	1.85	453.351155	1.263390e+07	9.80	9.9	0.418	9.5
2935	Zimbabwe	2002.0	Developing	44.8	73.0	25.0	4.43	0.000000	73.000000	304.000	...	73.0	6.53	71.0	1.85	57.348340	1.255250e+05	1.20	1.3	0.427	10.0
2936	Zimbabwe	2001.0	Developing	45.3	456.5	25.0	1.72	0.000000	76.000000	529.000	...	76.0	6.16	75.0	1.85	548.587312	1.236616e+07	1.60	1.7	0.427	9.8
2937	Zimbabwe	2000.0	Developing	46.0	456.5	24.0	1.68	0.000000	79.000000	900.625	...	78.0	7.10	78.0	1.85	547.358878	1.222225e+07	11.00	11.2	0.434	9.8
2938 rows × 22 columns

        Year  Life expectancy   Adult Mortality  infant deaths  Alcohol  \
0     2015.0              65.0            263.0           55.0     0.01   
1     2014.0              59.9            271.0           55.0     0.01   
2     2013.0              59.9            268.0           55.0     0.01   
3     2012.0              59.5            272.0           55.0     0.01   
4     2011.0              59.2            275.0           55.0     0.01   
...      ...               ...              ...            ...      ...   
2933  2004.0              44.3            456.5           27.0     4.36   
2934  2003.0              44.5            456.5           26.0     4.06   
2935  2002.0              44.8             73.0           25.0     4.43   
2936  2001.0              45.3            456.5           25.0     1.72   
2937  2000.0              46.0            456.5           24.0     1.68   

      percentage expenditure  Hepatitis B  Measles    BMI   \
0                  71.279624    65.000000   900.625   19.1   
1                  73.523582    62.000000   492.000   18.6   
2                  73.219243    64.000000   430.000   18.1   
3                  78.184215    67.000000   900.625   17.6   
4                   7.097109    68.000000   900.625   17.2   
...                      ...          ...       ...    ...   
2933                0.000000    68.000000    31.000   27.1   
2934                0.000000    58.351153   900.625   26.7   
2935                0.000000    73.000000   304.000   26.3   
2936                0.000000    76.000000   529.000   25.9   
2937                0.000000    79.000000   900.625   25.5   
...
2936              0               0                 1                  1  
2937              0               0                 1                  1  

[2938 rows x 213 columns]
Output is truncated. View as a scrollable element or open in a text editor. Adjust cell output settings...
0       65.0
1       59.9
2       59.9
3       59.5
4       59.2
        ... 
2933    44.3
2934    44.5
2935    44.8
2936    45.3
2937    46.0
Name: Life expectancy , Length: 2938, dtype: float64


from sklearn.preprocessing import StandardScaler
scaler = StandardScaler()

pd.DataFrame(scaler.fit_transform(X),columns=X.columns)


X
