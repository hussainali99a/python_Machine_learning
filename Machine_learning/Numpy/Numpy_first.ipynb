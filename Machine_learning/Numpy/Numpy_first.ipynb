{
 "cells": [
  {
   "cell_type": "code",
   "execution_count": 14,
   "id": "b72ff2b7",
   "metadata": {},
   "outputs": [],
   "source": [
    "import numpy as np"
   ]
  },
  {
   "cell_type": "code",
   "execution_count": 16,
   "id": "11954c48",
   "metadata": {},
   "outputs": [
    {
     "name": "stdout",
     "output_type": "stream",
     "text": [
      "[1, 2, 3, 4, 5, 6, 7, 8, 9, 10]\n",
      "<class 'list'>\n"
     ]
    }
   ],
   "source": [
    "a = [1,2,3,4,5,6,7,8,9,10]\n",
    "print(a)\n",
    "print(type(a))"
   ]
  },
  {
   "cell_type": "code",
   "execution_count": 18,
   "id": "d9f09342",
   "metadata": {},
   "outputs": [
    {
     "name": "stdout",
     "output_type": "stream",
     "text": [
      "[ 1  2  3  4  5  6  7  8  9 10]\n",
      "<class 'numpy.ndarray'>\n"
     ]
    }
   ],
   "source": [
    "a = np.array([1,2,3,4,5,6,7,8,9,10]) #numpy array \n",
    "print(a)\n",
    "print(type(a))"
   ]
  },
  {
   "cell_type": "markdown",
   "id": "5648e327",
   "metadata": {},
   "source": [
    "# ndim function"
   ]
  },
  {
   "cell_type": "code",
   "execution_count": 21,
   "id": "fedf1d92",
   "metadata": {},
   "outputs": [
    {
     "name": "stdout",
     "output_type": "stream",
     "text": [
      "1\n"
     ]
    }
   ],
   "source": [
    "#ndim :- to check dimension\n",
    "print(a.ndim)"
   ]
  },
  {
   "cell_type": "code",
   "execution_count": 31,
   "id": "485364fa",
   "metadata": {},
   "outputs": [
    {
     "name": "stdout",
     "output_type": "stream",
     "text": [
      "[[1 2 3 4 5]\n",
      " [2 3 4 5 6]]\n",
      "dimension of array is: 2\n"
     ]
    }
   ],
   "source": [
    "#two dimension\n",
    "b_2d = np.array([[1,2,3,4,5],[2,3,4,5,6]])\n",
    "print(b_2d)\n",
    "print(\"dimension of array is:\",b_2d.ndim)"
   ]
  },
  {
   "cell_type": "code",
   "execution_count": 43,
   "id": "8fdda015",
   "metadata": {},
   "outputs": [
    {
     "name": "stdout",
     "output_type": "stream",
     "text": [
      "[[[1 2 3]\n",
      "  [4 5 6]\n",
      "  [7 8 5]]\n",
      "\n",
      " [[1 1 1]\n",
      "  [2 2 2]\n",
      "  [3 3 3]]]\n",
      "<class 'numpy.ndarray'>\n",
      "dimension of array is :  3\n"
     ]
    }
   ],
   "source": [
    "#three dimension\n",
    "c_3d = np.array([[[1,2,3],[4,5,6],[7,8,5]],[[1,1,1],[2,2,2],[3,3,3]]])\n",
    "print(c_3d)\n",
    "print(type(c_3d))\n",
    "print(\"dimension of array is : \",c_3d.ndim)"
   ]
  },
  {
   "cell_type": "code",
   "execution_count": 39,
   "id": "d6aeb374",
   "metadata": {},
   "outputs": [
    {
     "name": "stdout",
     "output_type": "stream",
     "text": [
      "[[1 2 3 4 5]\n",
      " [4 5 6 8 9]\n",
      " [7 8 5 7 9]\n",
      " [1 1 1 5 6]\n",
      " [2 2 2 4 5]]\n",
      "<class 'numpy.ndarray'>\n",
      "dimension of array is :  2\n"
     ]
    }
   ],
   "source": [
    "#5X5 matrix\n",
    "c_3d = np.array([[1,2,3,4,5],[4,5,6,8,9],[7,8,5,7,9],[1,1,1,5,6],[2,2,2,4,5]])\n",
    "print(c_3d)\n",
    "print(type(c_3d))\n",
    "print(\"dimension of array is : \",c_3d.ndim)"
   ]
  },
  {
   "cell_type": "code",
   "execution_count": 36,
   "id": "0c0e5d57",
   "metadata": {},
   "outputs": [
    {
     "name": "stdout",
     "output_type": "stream",
     "text": [
      "[[[1 2]\n",
      "  [4 5]]\n",
      "\n",
      " [[1 1]\n",
      "  [2 2]]\n",
      "\n",
      " [[1 1]\n",
      "  [2 2]]]\n",
      "<class 'numpy.ndarray'>\n",
      "dimension of array is :  3\n"
     ]
    }
   ],
   "source": [
    "c_3d = np.array([[[1,2],[4,5]],[[1,1],[2,2]],[[1,1],[2,2]]])\n",
    "print(c_3d)\n",
    "print(type(c_3d))\n",
    "print(\"dimension of array is : \",c_3d.ndim)"
   ]
  },
  {
   "cell_type": "markdown",
   "id": "ea1fbf73",
   "metadata": {},
   "source": [
    "# size function"
   ]
  },
  {
   "cell_type": "code",
   "execution_count": 40,
   "id": "525f799b",
   "metadata": {},
   "outputs": [
    {
     "name": "stdout",
     "output_type": "stream",
     "text": [
      "[[1 2 3 4 5]\n",
      " [2 3 4 5 6]]\n",
      "10\n"
     ]
    }
   ],
   "source": [
    "# size\n",
    "b_2d = np.array([[1,2,3,4,5],[2,3,4,5,6]])\n",
    "print(b_2d)\n",
    "print(b_2d.size)"
   ]
  },
  {
   "cell_type": "code",
   "execution_count": 44,
   "id": "4e27d9bf",
   "metadata": {},
   "outputs": [
    {
     "name": "stdout",
     "output_type": "stream",
     "text": [
      "[[[1 2 3]\n",
      "  [4 5 6]\n",
      "  [7 8 5]]\n",
      "\n",
      " [[1 1 1]\n",
      "  [2 2 2]\n",
      "  [3 3 3]]]\n",
      "18\n"
     ]
    }
   ],
   "source": [
    "c_3d = np.array([[[1,2,3],[4,5,6],[7,8,5]],[[1,1,1],[2,2,2],[3,3,3]]])\n",
    "print(c_3d)\n",
    "print(c_3d.size)"
   ]
  },
  {
   "cell_type": "markdown",
   "id": "1fddfccc",
   "metadata": {},
   "source": [
    "# shape function"
   ]
  },
  {
   "cell_type": "code",
   "execution_count": 45,
   "id": "f287e2c1",
   "metadata": {},
   "outputs": [
    {
     "name": "stdout",
     "output_type": "stream",
     "text": [
      "[[1 2 3 4 5]\n",
      " [2 3 4 5 6]]\n",
      "(2, 5)\n"
     ]
    }
   ],
   "source": [
    "#shape function \n",
    "#shows no. of rows and column\n",
    "b_2d = np.array([[1,2,3,4,5],[2,3,4,5,6]])\n",
    "print(b_2d)\n",
    "print(b_2d.shape)"
   ]
  },
  {
   "cell_type": "code",
   "execution_count": 46,
   "id": "c1049a86",
   "metadata": {},
   "outputs": [
    {
     "name": "stdout",
     "output_type": "stream",
     "text": [
      "[[1 2 3 4 5]\n",
      " [4 5 6 8 9]\n",
      " [7 8 5 7 9]\n",
      " [1 1 1 5 6]\n",
      " [2 2 2 4 5]]\n",
      "(5, 5)\n"
     ]
    }
   ],
   "source": [
    "c_3d = np.array([[1,2,3,4,5],[4,5,6,8,9],[7,8,5,7,9],[1,1,1,5,6],[2,2,2,4,5]])\n",
    "print(c_3d)\n",
    "print(c_3d.shape)"
   ]
  },
  {
   "cell_type": "code",
   "execution_count": 47,
   "id": "22848290",
   "metadata": {},
   "outputs": [
    {
     "name": "stdout",
     "output_type": "stream",
     "text": [
      "[[1 2 3 4 5]\n",
      " [4 5 6 8 9]\n",
      " [7 8 5 7 9]\n",
      " [1 1 1 5 6]\n",
      " [2 2 2 4 5]]\n",
      "int32\n"
     ]
    }
   ],
   "source": [
    "#dtype\n",
    "#gives the type of data which type of data it is storing whether int , float , etc\n",
    "c_3d = np.array([[1,2,3,4,5],[4,5,6,8,9],[7,8,5,7,9],[1,1,1,5,6],[2,2,2,4,5]])\n",
    "print(c_3d)\n",
    "print(c_3d.dtype)"
   ]
  },
  {
   "cell_type": "code",
   "execution_count": 50,
   "id": "730732bf",
   "metadata": {},
   "outputs": [
    {
     "name": "stdout",
     "output_type": "stream",
     "text": [
      "[[1 1 1 1]\n",
      " [1 1 1 1]\n",
      " [1 1 1 1]\n",
      " [1 1 1 1]]\n",
      "[[0 0 0]\n",
      " [0 0 0]\n",
      " [0 0 0]]\n"
     ]
    }
   ],
   "source": [
    "c_array = np.array([[1,1,1,1],[1,1,1,1],[1,1,1,1],[1,1,1,1]])\n",
    "print(c_array)\n",
    "c_array_2 = np.array([[0,0,0],[0,0,0],[0,0,0]])\n",
    "print(c_array_2)"
   ]
  },
  {
   "cell_type": "markdown",
   "id": "e05a7ece",
   "metadata": {},
   "source": [
    "# ones and zeros"
   ]
  },
  {
   "cell_type": "code",
   "execution_count": 62,
   "id": "9481369d",
   "metadata": {},
   "outputs": [
    {
     "name": "stdout",
     "output_type": "stream",
     "text": [
      "[[1 1 1 1]\n",
      " [1 1 1 1]\n",
      " [1 1 1 1]\n",
      " [1 1 1 1]]\n",
      "[[0 0 0]\n",
      " [0 0 0]\n",
      " [0 0 0]]\n"
     ]
    }
   ],
   "source": [
    "#creating  matrix by ones and zeros function\n",
    "a= np.ones([4,4] , dtype = int)\n",
    "print(a)\n",
    "b = np.zeros([3,3],dtype = int)\n",
    "print(b)"
   ]
  },
  {
   "cell_type": "code",
   "execution_count": 65,
   "id": "16cb3cde",
   "metadata": {},
   "outputs": [
    {
     "name": "stdout",
     "output_type": "stream",
     "text": [
      "[['1' '1' '1' '1']\n",
      " ['1' '1' '1' '1']\n",
      " ['1' '1' '1' '1']\n",
      " ['1' '1' '1' '1']]\n",
      "[['' '' '']\n",
      " ['' '' '']\n",
      " ['' '' '']]\n"
     ]
    }
   ],
   "source": [
    "a= np.ones([4,4] , dtype = str)\n",
    "print(a)\n",
    "b = np.zeros([3,3],dtype = str) # blank matrix will occur\n",
    "print(b)"
   ]
  },
  {
   "cell_type": "code",
   "execution_count": 67,
   "id": "91818cf0",
   "metadata": {},
   "outputs": [
    {
     "name": "stdout",
     "output_type": "stream",
     "text": [
      "[[ True  True  True  True]\n",
      " [ True  True  True  True]\n",
      " [ True  True  True  True]\n",
      " [ True  True  True  True]]\n",
      "[[False False False]\n",
      " [False False False]\n",
      " [False False False]]\n"
     ]
    }
   ],
   "source": [
    "a= np.ones([4,4] , dtype = bool)\n",
    "print(a)\n",
    "b = np.zeros([3,3],dtype = bool)\n",
    "print(b)"
   ]
  },
  {
   "cell_type": "markdown",
   "id": "cca3510f",
   "metadata": {},
   "source": [
    "# empty function"
   ]
  },
  {
   "cell_type": "code",
   "execution_count": 72,
   "id": "c1a4efc5",
   "metadata": {},
   "outputs": [
    {
     "name": "stdout",
     "output_type": "stream",
     "text": [
      "[[1. 1. 1. 1.]\n",
      " [1. 1. 1. 1.]\n",
      " [1. 1. 1. 1.]\n",
      " [1. 1. 1. 1.]]\n"
     ]
    }
   ],
   "source": [
    "em_mx = np.empty((4,4)) # gives garbage value\n",
    "print(em_mx)"
   ]
  },
  {
   "cell_type": "markdown",
   "id": "f0f571da",
   "metadata": {},
   "source": [
    "# arrange function"
   ]
  },
  {
   "cell_type": "code",
   "execution_count": 75,
   "id": "c77050d6",
   "metadata": {},
   "outputs": [
    {
     "name": "stdout",
     "output_type": "stream",
     "text": [
      "[ 0  1  2  3  4  5  6  7  8  9 10 11 12]\n"
     ]
    }
   ],
   "source": [
    "#syntax :- np.arange(start_value , end_value , step)\n",
    "ar_1d = np.arange(13)\n",
    "print(ar_1d)"
   ]
  },
  {
   "cell_type": "code",
   "execution_count": 78,
   "id": "1af220cf",
   "metadata": {},
   "outputs": [
    {
     "name": "stdout",
     "output_type": "stream",
     "text": [
      "[ 1  2  3  4  5  6  7  8  9 10 11 12 13 14 15 16 17 18 19 20 21 22 23 24\n",
      " 25 26 27 28 29 30 31 32 33 34 35 36 37 38 39 40 41 42 43 44 45 46 47 48\n",
      " 49 50 51 52 53 54 55 56 57 58 59 60 61 62 63 64 65 66 67 68 69 70 71 72\n",
      " 73 74 75 76 77 78 79 80 81 82 83 84 85 86 87 88 89 90 91 92 93 94 95 96\n",
      " 97 98 99]\n"
     ]
    }
   ],
   "source": [
    "ar_1d = np.arange(1 , 100)\n",
    "print(ar_1d)"
   ]
  },
  {
   "cell_type": "code",
   "execution_count": 85,
   "id": "26695f73",
   "metadata": {},
   "outputs": [
    {
     "name": "stdout",
     "output_type": "stream",
     "text": [
      "[ 1  2  3  4  5  6  7  8  9 10 11 12 13 14 15 16 17 18 19 20 21 22 23 24\n",
      " 25 26 27 28 29 30 31 32 33 34 35 36 37 38 39 40 41 42 43 44 45 46 47 48\n",
      " 49 50 51 52 53 54 55 56 57 58 59 60 61 62 63 64 65 66 67 68 69 70 71 72\n",
      " 73 74 75 76 77 78 79 80 81 82 83 84 85 86 87 88 89 90 91 92 93 94 95 96\n",
      " 97 98 99]\n"
     ]
    }
   ],
   "source": [
    "ar_1d = np.arange(1 , 100 , 1)\n",
    "print(ar_1d)"
   ]
  },
  {
   "cell_type": "markdown",
   "id": "f9e577fd",
   "metadata": {},
   "source": [
    "# linspace function"
   ]
  },
  {
   "cell_type": "code",
   "execution_count": 97,
   "id": "0cdf7f0b",
   "metadata": {},
   "outputs": [
    {
     "data": {
      "text/plain": [
       "array([1.        , 1.02040816, 1.04081633, 1.06122449, 1.08163265,\n",
       "       1.10204082, 1.12244898, 1.14285714, 1.16326531, 1.18367347,\n",
       "       1.20408163, 1.2244898 , 1.24489796, 1.26530612, 1.28571429,\n",
       "       1.30612245, 1.32653061, 1.34693878, 1.36734694, 1.3877551 ,\n",
       "       1.40816327, 1.42857143, 1.44897959, 1.46938776, 1.48979592,\n",
       "       1.51020408, 1.53061224, 1.55102041, 1.57142857, 1.59183673,\n",
       "       1.6122449 , 1.63265306, 1.65306122, 1.67346939, 1.69387755,\n",
       "       1.71428571, 1.73469388, 1.75510204, 1.7755102 , 1.79591837,\n",
       "       1.81632653, 1.83673469, 1.85714286, 1.87755102, 1.89795918,\n",
       "       1.91836735, 1.93877551, 1.95918367, 1.97959184, 2.        ])"
      ]
     },
     "execution_count": 97,
     "metadata": {},
     "output_type": "execute_result"
    }
   ],
   "source": [
    "#syntax :- np.linspace(start_value , end_value , np of value b/w start and end)\n",
    "np.linspace(1,2,50)"
   ]
  },
  {
   "cell_type": "code",
   "execution_count": 100,
   "id": "7301bca5",
   "metadata": {},
   "outputs": [
    {
     "data": {
      "text/plain": [
       "array([  1.,  12.,  23.,  34.,  45.,  56.,  67.,  78.,  89., 100.])"
      ]
     },
     "execution_count": 100,
     "metadata": {},
     "output_type": "execute_result"
    }
   ],
   "source": [
    "np.linspace(1,100,10) #difference is same b/w values"
   ]
  },
  {
   "cell_type": "code",
   "execution_count": 102,
   "id": "e95a3d05",
   "metadata": {},
   "outputs": [
    {
     "name": "stdout",
     "output_type": "stream",
     "text": [
      "[ 1.     1.375  1.75   2.125  2.5    2.875  3.25   3.625  4.     4.375\n",
      "  4.75   5.125  5.5    5.875  6.25   6.625  7.     7.375  7.75   8.125\n",
      "  8.5    8.875  9.25   9.625 10.   ]\n"
     ]
    }
   ],
   "source": [
    "s = np.linspace(1,10,25)\n",
    "print(s)"
   ]
  },
  {
   "cell_type": "markdown",
   "id": "ad713e54",
   "metadata": {},
   "source": [
    "# resahpe function"
   ]
  },
  {
   "cell_type": "code",
   "execution_count": 107,
   "id": "1ff6c2f4",
   "metadata": {},
   "outputs": [
    {
     "name": "stdout",
     "output_type": "stream",
     "text": [
      "one dimension array by linspace\n",
      "[ 1.     1.375  1.75   2.125  2.5    2.875  3.25   3.625  4.     4.375\n",
      "  4.75   5.125  5.5    5.875  6.25   6.625  7.     7.375  7.75   8.125\n",
      "  8.5    8.875  9.25   9.625 10.   ]\n",
      "[[ 1.     1.375  1.75   2.125  2.5  ]\n",
      " [ 2.875  3.25   3.625  4.     4.375]\n",
      " [ 4.75   5.125  5.5    5.875  6.25 ]\n",
      " [ 6.625  7.     7.375  7.75   8.125]\n",
      " [ 8.5    8.875  9.25   9.625 10.   ]]\n"
     ]
    }
   ],
   "source": [
    "print(\"one dimension array by linspace\")\n",
    "s = np.linspace(1,10,25)\n",
    "print(s)\n",
    "d = s.reshape(5,5)\n",
    "print(d)\n"
   ]
  },
  {
   "cell_type": "code",
   "execution_count": 119,
   "id": "d98b0c51",
   "metadata": {},
   "outputs": [
    {
     "name": "stdout",
     "output_type": "stream",
     "text": [
      "by linspace function: [[[ 1  2]\n",
      "  [ 3  4]]\n",
      "\n",
      " [[ 5  6]\n",
      "  [ 7  8]]\n",
      "\n",
      " [[ 9 10]\n",
      "  [11 12]]]\n",
      "[ 1  2  3  4  5  6  7  8  9 10 11 12]\n",
      "by arange function:[ 1  2  3  4  5  6  7  8  9 10 11 12]\n",
      "[[[ 1  2]\n",
      "  [ 3  4]]\n",
      "\n",
      " [[ 5  6]\n",
      "  [ 7  8]]\n",
      "\n",
      " [[ 9 10]\n",
      "  [11 12]]]\n"
     ]
    }
   ],
   "source": [
    "print(\"by linspace function:\")\n",
    "\n",
    "arr = np.linspace(1,12,12 , dtype = int)\n",
    "arr2 = arr.reshape(3,2,2)\n",
    "print(arr2)\n",
    "print(arr)\n",
    "print(\"by arange function:\")\n",
    "array_1 = np.arange(1,13,1)\n",
    "print(array_1)\n",
    "array_2 = array_1.reshape(3,2,2)\n",
    "print(array_2)"
   ]
  },
  {
   "cell_type": "markdown",
   "id": "4d2f31d5",
   "metadata": {},
   "source": [
    "# ravel function"
   ]
  },
  {
   "cell_type": "code",
   "execution_count": 120,
   "id": "f3c0d314",
   "metadata": {},
   "outputs": [
    {
     "data": {
      "text/plain": [
       "array([1, 2, 3, 4, 5, 6, 7, 8, 5, 1, 1, 1, 2, 2, 2, 3, 3, 3])"
      ]
     },
     "execution_count": 120,
     "metadata": {},
     "output_type": "execute_result"
    }
   ],
   "source": [
    "#convert multi dimensional to one dimensional\n",
    "c_3d = np.array([[[1,2,3],[4,5,6],[7,8,5]],[[1,1,1],[2,2,2],[3,3,3]]])\n",
    "c_3d.ravel()"
   ]
  },
  {
   "cell_type": "markdown",
   "id": "5eef5463",
   "metadata": {},
   "source": [
    "# transpose function"
   ]
  },
  {
   "cell_type": "code",
   "execution_count": 125,
   "id": "5d5e2876",
   "metadata": {},
   "outputs": [
    {
     "data": {
      "text/plain": [
       "array([[1, 4, 7, 1, 2],\n",
       "       [2, 5, 8, 1, 2],\n",
       "       [3, 6, 5, 1, 2],\n",
       "       [4, 8, 7, 5, 4],\n",
       "       [5, 9, 9, 6, 5]])"
      ]
     },
     "execution_count": 125,
     "metadata": {},
     "output_type": "execute_result"
    }
   ],
   "source": [
    "#transpose() or T() row to column or column to row\n",
    "c_3d = np.array([[1,2,3,4,5],[4,5,6,8,9],[7,8,5,7,9],[1,1,1,5,6],[2,2,2,4,5]])\n",
    "# c_3d.transpose()\n",
    "c_3d.T"
   ]
  },
  {
   "cell_type": "code",
   "execution_count": 133,
   "id": "81a47a8f",
   "metadata": {},
   "outputs": [
    {
     "name": "stdout",
     "output_type": "stream",
     "text": [
      "[[1 2 3]\n",
      " [4 5 6]\n",
      " [7 8 9]]\n",
      "[[1 2 3]\n",
      " [4 5 6]\n",
      " [7 8 9]]\n"
     ]
    }
   ],
   "source": [
    "array1 = np.arange(1,10).reshape(3,3)\n",
    "array2 = np.arange(1,10).reshape(3,3)\n",
    "print(array1)\n",
    "print(array2)"
   ]
  },
  {
   "cell_type": "markdown",
   "id": "2bfbfa7f",
   "metadata": {},
   "source": [
    "# mathematical operation using Numpy"
   ]
  },
  {
   "cell_type": "code",
   "execution_count": 134,
   "id": "0038cab7",
   "metadata": {},
   "outputs": [
    {
     "name": "stdout",
     "output_type": "stream",
     "text": [
      "[[ 2  4  6]\n",
      " [ 8 10 12]\n",
      " [14 16 18]]\n"
     ]
    }
   ],
   "source": [
    "print(array1+array2)"
   ]
  },
  {
   "cell_type": "code",
   "execution_count": 135,
   "id": "d8e523fd",
   "metadata": {},
   "outputs": [
    {
     "name": "stdout",
     "output_type": "stream",
     "text": [
      "[[0 0 0]\n",
      " [0 0 0]\n",
      " [0 0 0]]\n"
     ]
    }
   ],
   "source": [
    "print(array1-array2)"
   ]
  },
  {
   "cell_type": "code",
   "execution_count": 136,
   "id": "a3557b8f",
   "metadata": {},
   "outputs": [
    {
     "name": "stdout",
     "output_type": "stream",
     "text": [
      "[[ 1  4  9]\n",
      " [16 25 36]\n",
      " [49 64 81]]\n"
     ]
    }
   ],
   "source": [
    "print(array1*array2) #this is not actual matrix multiplication(elemenmt to element)"
   ]
  },
  {
   "cell_type": "code",
   "execution_count": 139,
   "id": "762ac25a",
   "metadata": {},
   "outputs": [
    {
     "name": "stdout",
     "output_type": "stream",
     "text": [
      "[[ 30  36  42]\n",
      " [ 66  81  96]\n",
      " [102 126 150]]\n"
     ]
    }
   ],
   "source": [
    "print(array1@array2)"
   ]
  },
  {
   "cell_type": "code",
   "execution_count": 141,
   "id": "e632db3a",
   "metadata": {},
   "outputs": [
    {
     "name": "stdout",
     "output_type": "stream",
     "text": [
      "[[ 30  36  42]\n",
      " [ 66  81  96]\n",
      " [102 126 150]]\n"
     ]
    }
   ],
   "source": [
    "print(array1.dot(array2))"
   ]
  },
  {
   "cell_type": "code",
   "execution_count": 142,
   "id": "8c7af673",
   "metadata": {},
   "outputs": [
    {
     "data": {
      "text/plain": [
       "array([[ 2,  4,  6],\n",
       "       [ 8, 10, 12],\n",
       "       [14, 16, 18]])"
      ]
     },
     "execution_count": 142,
     "metadata": {},
     "output_type": "execute_result"
    }
   ],
   "source": [
    "np.add(array1,array2)"
   ]
  },
  {
   "cell_type": "code",
   "execution_count": 145,
   "id": "c1f9863a",
   "metadata": {},
   "outputs": [
    {
     "data": {
      "text/plain": [
       "array([[1., 1., 1.],\n",
       "       [1., 1., 1.],\n",
       "       [1., 1., 1.]])"
      ]
     },
     "execution_count": 145,
     "metadata": {},
     "output_type": "execute_result"
    }
   ],
   "source": [
    "np.divide(array1,array2)"
   ]
  },
  {
   "cell_type": "code",
   "execution_count": 147,
   "id": "6dcc847d",
   "metadata": {},
   "outputs": [
    {
     "data": {
      "text/plain": [
       "array([[0, 0, 0],\n",
       "       [0, 0, 0],\n",
       "       [0, 0, 0]])"
      ]
     },
     "execution_count": 147,
     "metadata": {},
     "output_type": "execute_result"
    }
   ],
   "source": [
    "np.subtract(array1,array2)"
   ]
  }
 ],
 "metadata": {
  "kernelspec": {
   "display_name": "Python 3 (ipykernel)",
   "language": "python",
   "name": "python3"
  },
  "language_info": {
   "codemirror_mode": {
    "name": "ipython",
    "version": 3
   },
   "file_extension": ".py",
   "mimetype": "text/x-python",
   "name": "python",
   "nbconvert_exporter": "python",
   "pygments_lexer": "ipython3",
   "version": "3.11.3"
  }
 },
 "nbformat": 4,
 "nbformat_minor": 5
}
