{
 "cells": [
  {
   "cell_type": "markdown",
   "id": "c28f7195",
   "metadata": {},
   "source": [
    "# Numpy "
   ]
  },
  {
   "cell_type": "code",
   "execution_count": 1,
   "id": "0893044c",
   "metadata": {},
   "outputs": [],
   "source": [
    "import numpy as np"
   ]
  },
  {
   "cell_type": "code",
   "execution_count": 16,
   "id": "b20034e3",
   "metadata": {},
   "outputs": [
    {
     "name": "stdout",
     "output_type": "stream",
     "text": [
      "[1, 2, 3, 4, 5, 6, 7, 8, 9, 10]\n",
      "<class 'list'>\n"
     ]
    }
   ],
   "source": [
    "a = [1,2,3,4,5,6,7,8,9,10]\n",
    "print(a)\n",
    "print(type(a))"
   ]
  },
  {
   "cell_type": "code",
   "execution_count": 18,
   "id": "c708d61a",
   "metadata": {},
   "outputs": [
    {
     "name": "stdout",
     "output_type": "stream",
     "text": [
      "[ 1  2  3  4  5  6  7  8  9 10]\n",
      "<class 'numpy.ndarray'>\n"
     ]
    }
   ],
   "source": [
    "a = np.array([1,2,3,4,5,6,7,8,9,10]) #numpy array \n",
    "print(a)\n",
    "print(type(a))"
   ]
  },
  {
   "cell_type": "markdown",
   "id": "6768ee3b",
   "metadata": {},
   "source": [
    "# ndim function"
   ]
  },
  {
   "cell_type": "code",
   "execution_count": 21,
   "id": "27d65ada",
   "metadata": {},
   "outputs": [
    {
     "name": "stdout",
     "output_type": "stream",
     "text": [
      "1\n"
     ]
    }
   ],
   "source": [
    "#ndim :- to check dimension\n",
    "print(a.ndim)"
   ]
  },
  {
   "cell_type": "code",
   "execution_count": 31,
   "id": "0c7fa38a",
   "metadata": {},
   "outputs": [
    {
     "name": "stdout",
     "output_type": "stream",
     "text": [
      "[[1 2 3 4 5]\n",
      " [2 3 4 5 6]]\n",
      "dimension of array is: 2\n"
     ]
    }
   ],
   "source": [
    "#two dimension\n",
    "b_2d = np.array([[1,2,3,4,5],[2,3,4,5,6]])\n",
    "print(b_2d)\n",
    "print(\"dimension of array is:\",b_2d.ndim)"
   ]
  },
  {
   "cell_type": "code",
   "execution_count": 43,
   "id": "22ca845b",
   "metadata": {},
   "outputs": [
    {
     "name": "stdout",
     "output_type": "stream",
     "text": [
      "[[[1 2 3]\n",
      "  [4 5 6]\n",
      "  [7 8 5]]\n",
      "\n",
      " [[1 1 1]\n",
      "  [2 2 2]\n",
      "  [3 3 3]]]\n",
      "<class 'numpy.ndarray'>\n",
      "dimension of array is :  3\n"
     ]
    }
   ],
   "source": [
    "#three dimension\n",
    "c_3d = np.array([[[1,2,3],[4,5,6],[7,8,5]],[[1,1,1],[2,2,2],[3,3,3]]])\n",
    "print(c_3d)\n",
    "print(type(c_3d))\n",
    "print(\"dimension of array is : \",c_3d.ndim)"
   ]
  },
  {
   "cell_type": "code",
   "execution_count": 39,
   "id": "942072f6",
   "metadata": {},
   "outputs": [
    {
     "name": "stdout",
     "output_type": "stream",
     "text": [
      "[[1 2 3 4 5]\n",
      " [4 5 6 8 9]\n",
      " [7 8 5 7 9]\n",
      " [1 1 1 5 6]\n",
      " [2 2 2 4 5]]\n",
      "<class 'numpy.ndarray'>\n",
      "dimension of array is :  2\n"
     ]
    }
   ],
   "source": [
    "#5X5 matrix\n",
    "c_3d = np.array([[1,2,3,4,5],[4,5,6,8,9],[7,8,5,7,9],[1,1,1,5,6],[2,2,2,4,5]])\n",
    "print(c_3d)\n",
    "print(type(c_3d))\n",
    "print(\"dimension of array is : \",c_3d.ndim)"
   ]
  },
  {
   "cell_type": "code",
   "execution_count": 36,
   "id": "fbf4fea3",
   "metadata": {},
   "outputs": [
    {
     "name": "stdout",
     "output_type": "stream",
     "text": [
      "[[[1 2]\n",
      "  [4 5]]\n",
      "\n",
      " [[1 1]\n",
      "  [2 2]]\n",
      "\n",
      " [[1 1]\n",
      "  [2 2]]]\n",
      "<class 'numpy.ndarray'>\n",
      "dimension of array is :  3\n"
     ]
    }
   ],
   "source": [
    "c_3d = np.array([[[1,2],[4,5]],[[1,1],[2,2]],[[1,1],[2,2]]])\n",
    "print(c_3d)\n",
    "print(type(c_3d))\n",
    "print(\"dimension of array is : \",c_3d.ndim)"
   ]
  },
  {
   "cell_type": "markdown",
   "id": "5b60f54b",
   "metadata": {},
   "source": [
    "# size function"
   ]
  },
  {
   "cell_type": "code",
   "execution_count": 40,
   "id": "2580a64e",
   "metadata": {},
   "outputs": [
    {
     "name": "stdout",
     "output_type": "stream",
     "text": [
      "[[1 2 3 4 5]\n",
      " [2 3 4 5 6]]\n",
      "10\n"
     ]
    }
   ],
   "source": [
    "# size\n",
    "b_2d = np.array([[1,2,3,4,5],[2,3,4,5,6]])\n",
    "print(b_2d)\n",
    "print(b_2d.size)"
   ]
  },
  {
   "cell_type": "code",
   "execution_count": 44,
   "id": "3328c868",
   "metadata": {},
   "outputs": [
    {
     "name": "stdout",
     "output_type": "stream",
     "text": [
      "[[[1 2 3]\n",
      "  [4 5 6]\n",
      "  [7 8 5]]\n",
      "\n",
      " [[1 1 1]\n",
      "  [2 2 2]\n",
      "  [3 3 3]]]\n",
      "18\n"
     ]
    }
   ],
   "source": [
    "c_3d = np.array([[[1,2,3],[4,5,6],[7,8,5]],[[1,1,1],[2,2,2],[3,3,3]]])\n",
    "print(c_3d)\n",
    "print(c_3d.size)"
   ]
  },
  {
   "cell_type": "markdown",
   "id": "be3fb40b",
   "metadata": {},
   "source": [
    "# shape function"
   ]
  },
  {
   "cell_type": "code",
   "execution_count": 45,
   "id": "d0df5748",
   "metadata": {},
   "outputs": [
    {
     "name": "stdout",
     "output_type": "stream",
     "text": [
      "[[1 2 3 4 5]\n",
      " [2 3 4 5 6]]\n",
      "(2, 5)\n"
     ]
    }
   ],
   "source": [
    "#shape function \n",
    "#shows no. of rows and column\n",
    "b_2d = np.array([[1,2,3,4,5],[2,3,4,5,6]])\n",
    "print(b_2d)\n",
    "print(b_2d.shape)"
   ]
  },
  {
   "cell_type": "code",
   "execution_count": 46,
   "id": "52381b0e",
   "metadata": {},
   "outputs": [
    {
     "name": "stdout",
     "output_type": "stream",
     "text": [
      "[[1 2 3 4 5]\n",
      " [4 5 6 8 9]\n",
      " [7 8 5 7 9]\n",
      " [1 1 1 5 6]\n",
      " [2 2 2 4 5]]\n",
      "(5, 5)\n"
     ]
    }
   ],
   "source": [
    "c_3d = np.array([[1,2,3,4,5],[4,5,6,8,9],[7,8,5,7,9],[1,1,1,5,6],[2,2,2,4,5]])\n",
    "print(c_3d)\n",
    "print(c_3d.shape)"
   ]
  },
  {
   "cell_type": "code",
   "execution_count": 47,
   "id": "f5d61de5",
   "metadata": {},
   "outputs": [
    {
     "name": "stdout",
     "output_type": "stream",
     "text": [
      "[[1 2 3 4 5]\n",
      " [4 5 6 8 9]\n",
      " [7 8 5 7 9]\n",
      " [1 1 1 5 6]\n",
      " [2 2 2 4 5]]\n",
      "int32\n"
     ]
    }
   ],
   "source": [
    "#dtype\n",
    "#gives the type of data which type of data it is storing whether int , float , etc\n",
    "c_3d = np.array([[1,2,3,4,5],[4,5,6,8,9],[7,8,5,7,9],[1,1,1,5,6],[2,2,2,4,5]])\n",
    "print(c_3d)\n",
    "print(c_3d.dtype)"
   ]
  },
  {
   "cell_type": "code",
   "execution_count": 50,
   "id": "c1d29f50",
   "metadata": {},
   "outputs": [
    {
     "name": "stdout",
     "output_type": "stream",
     "text": [
      "[[1 1 1 1]\n",
      " [1 1 1 1]\n",
      " [1 1 1 1]\n",
      " [1 1 1 1]]\n",
      "[[0 0 0]\n",
      " [0 0 0]\n",
      " [0 0 0]]\n"
     ]
    }
   ],
   "source": [
    "c_array = np.array([[1,1,1,1],[1,1,1,1],[1,1,1,1],[1,1,1,1]])\n",
    "print(c_array)\n",
    "c_array_2 = np.array([[0,0,0],[0,0,0],[0,0,0]])\n",
    "print(c_array_2)"
   ]
  },
  {
   "cell_type": "markdown",
   "id": "b9f191b0",
   "metadata": {},
   "source": [
    "# ones and zeros"
   ]
  },
  {
   "cell_type": "code",
   "execution_count": 62,
   "id": "ff38ae34",
   "metadata": {},
   "outputs": [
    {
     "name": "stdout",
     "output_type": "stream",
     "text": [
      "[[1 1 1 1]\n",
      " [1 1 1 1]\n",
      " [1 1 1 1]\n",
      " [1 1 1 1]]\n",
      "[[0 0 0]\n",
      " [0 0 0]\n",
      " [0 0 0]]\n"
     ]
    }
   ],
   "source": [
    "#creating  matrix by ones and zeros function\n",
    "a= np.ones([4,4] , dtype = int)\n",
    "print(a)\n",
    "b = np.zeros([3,3],dtype = int)\n",
    "print(b)"
   ]
  },
  {
   "cell_type": "code",
   "execution_count": 65,
   "id": "5097b8ec",
   "metadata": {},
   "outputs": [
    {
     "name": "stdout",
     "output_type": "stream",
     "text": [
      "[['1' '1' '1' '1']\n",
      " ['1' '1' '1' '1']\n",
      " ['1' '1' '1' '1']\n",
      " ['1' '1' '1' '1']]\n",
      "[['' '' '']\n",
      " ['' '' '']\n",
      " ['' '' '']]\n"
     ]
    }
   ],
   "source": [
    "a= np.ones([4,4] , dtype = str)\n",
    "print(a)\n",
    "b = np.zeros([3,3],dtype = str) # blank matrix will occur\n",
    "print(b)"
   ]
  },
  {
   "cell_type": "code",
   "execution_count": 67,
   "id": "be0afcfe",
   "metadata": {},
   "outputs": [
    {
     "name": "stdout",
     "output_type": "stream",
     "text": [
      "[[ True  True  True  True]\n",
      " [ True  True  True  True]\n",
      " [ True  True  True  True]\n",
      " [ True  True  True  True]]\n",
      "[[False False False]\n",
      " [False False False]\n",
      " [False False False]]\n"
     ]
    }
   ],
   "source": [
    "a= np.ones([4,4] , dtype = bool)\n",
    "print(a)\n",
    "b = np.zeros([3,3],dtype = bool)\n",
    "print(b)"
   ]
  },
  {
   "cell_type": "markdown",
   "id": "30209819",
   "metadata": {},
   "source": [
    "# empty function"
   ]
  },
  {
   "cell_type": "code",
   "execution_count": 72,
   "id": "f895af77",
   "metadata": {},
   "outputs": [
    {
     "name": "stdout",
     "output_type": "stream",
     "text": [
      "[[1. 1. 1. 1.]\n",
      " [1. 1. 1. 1.]\n",
      " [1. 1. 1. 1.]\n",
      " [1. 1. 1. 1.]]\n"
     ]
    }
   ],
   "source": [
    "em_mx = np.empty((4,4)) # gives garbage value\n",
    "print(em_mx)"
   ]
  },
  {
   "cell_type": "markdown",
   "id": "7781374e",
   "metadata": {},
   "source": [
    "# arrange function"
   ]
  },
  {
   "cell_type": "code",
   "execution_count": 75,
   "id": "458895be",
   "metadata": {},
   "outputs": [
    {
     "name": "stdout",
     "output_type": "stream",
     "text": [
      "[ 0  1  2  3  4  5  6  7  8  9 10 11 12]\n"
     ]
    }
   ],
   "source": [
    "#syntax :- np.arange(start_value , end_value , step)\n",
    "ar_1d = np.arange(13)\n",
    "print(ar_1d)"
   ]
  },
  {
   "cell_type": "code",
   "execution_count": 78,
   "id": "9406e3b9",
   "metadata": {},
   "outputs": [
    {
     "name": "stdout",
     "output_type": "stream",
     "text": [
      "[ 1  2  3  4  5  6  7  8  9 10 11 12 13 14 15 16 17 18 19 20 21 22 23 24\n",
      " 25 26 27 28 29 30 31 32 33 34 35 36 37 38 39 40 41 42 43 44 45 46 47 48\n",
      " 49 50 51 52 53 54 55 56 57 58 59 60 61 62 63 64 65 66 67 68 69 70 71 72\n",
      " 73 74 75 76 77 78 79 80 81 82 83 84 85 86 87 88 89 90 91 92 93 94 95 96\n",
      " 97 98 99]\n"
     ]
    }
   ],
   "source": [
    "ar_1d = np.arange(1 , 100)\n",
    "print(ar_1d)"
   ]
  },
  {
   "cell_type": "code",
   "execution_count": 85,
   "id": "ae0d1088",
   "metadata": {},
   "outputs": [
    {
     "name": "stdout",
     "output_type": "stream",
     "text": [
      "[ 1  2  3  4  5  6  7  8  9 10 11 12 13 14 15 16 17 18 19 20 21 22 23 24\n",
      " 25 26 27 28 29 30 31 32 33 34 35 36 37 38 39 40 41 42 43 44 45 46 47 48\n",
      " 49 50 51 52 53 54 55 56 57 58 59 60 61 62 63 64 65 66 67 68 69 70 71 72\n",
      " 73 74 75 76 77 78 79 80 81 82 83 84 85 86 87 88 89 90 91 92 93 94 95 96\n",
      " 97 98 99]\n"
     ]
    }
   ],
   "source": [
    "ar_1d = np.arange(1 , 100 , 1)\n",
    "print(ar_1d)"
   ]
  },
  {
   "cell_type": "markdown",
   "id": "eeecb006",
   "metadata": {},
   "source": [
    "# linspace function"
   ]
  },
  {
   "cell_type": "code",
   "execution_count": 97,
   "id": "911d680d",
   "metadata": {},
   "outputs": [
    {
     "data": {
      "text/plain": [
       "array([1.        , 1.02040816, 1.04081633, 1.06122449, 1.08163265,\n",
       "       1.10204082, 1.12244898, 1.14285714, 1.16326531, 1.18367347,\n",
       "       1.20408163, 1.2244898 , 1.24489796, 1.26530612, 1.28571429,\n",
       "       1.30612245, 1.32653061, 1.34693878, 1.36734694, 1.3877551 ,\n",
       "       1.40816327, 1.42857143, 1.44897959, 1.46938776, 1.48979592,\n",
       "       1.51020408, 1.53061224, 1.55102041, 1.57142857, 1.59183673,\n",
       "       1.6122449 , 1.63265306, 1.65306122, 1.67346939, 1.69387755,\n",
       "       1.71428571, 1.73469388, 1.75510204, 1.7755102 , 1.79591837,\n",
       "       1.81632653, 1.83673469, 1.85714286, 1.87755102, 1.89795918,\n",
       "       1.91836735, 1.93877551, 1.95918367, 1.97959184, 2.        ])"
      ]
     },
     "execution_count": 97,
     "metadata": {},
     "output_type": "execute_result"
    }
   ],
   "source": [
    "#syntax :- np.linspace(start_value , end_value , np of value b/w start and end)\n",
    "np.linspace(1,2,50)"
   ]
  },
  {
   "cell_type": "code",
   "execution_count": 100,
   "id": "6a57e5ea",
   "metadata": {},
   "outputs": [
    {
     "data": {
      "text/plain": [
       "array([  1.,  12.,  23.,  34.,  45.,  56.,  67.,  78.,  89., 100.])"
      ]
     },
     "execution_count": 100,
     "metadata": {},
     "output_type": "execute_result"
    }
   ],
   "source": [
    "np.linspace(1,100,10) #difference is same b/w values"
   ]
  },
  {
   "cell_type": "code",
   "execution_count": 102,
   "id": "a28eace0",
   "metadata": {},
   "outputs": [
    {
     "name": "stdout",
     "output_type": "stream",
     "text": [
      "[ 1.     1.375  1.75   2.125  2.5    2.875  3.25   3.625  4.     4.375\n",
      "  4.75   5.125  5.5    5.875  6.25   6.625  7.     7.375  7.75   8.125\n",
      "  8.5    8.875  9.25   9.625 10.   ]\n"
     ]
    }
   ],
   "source": [
    "s = np.linspace(1,10,25)\n",
    "print(s)"
   ]
  },
  {
   "cell_type": "markdown",
   "id": "010f6bfd",
   "metadata": {},
   "source": [
    "# resahpe function"
   ]
  },
  {
   "cell_type": "code",
   "execution_count": 107,
   "id": "67011bd1",
   "metadata": {},
   "outputs": [
    {
     "name": "stdout",
     "output_type": "stream",
     "text": [
      "one dimension array by linspace\n",
      "[ 1.     1.375  1.75   2.125  2.5    2.875  3.25   3.625  4.     4.375\n",
      "  4.75   5.125  5.5    5.875  6.25   6.625  7.     7.375  7.75   8.125\n",
      "  8.5    8.875  9.25   9.625 10.   ]\n",
      "[[ 1.     1.375  1.75   2.125  2.5  ]\n",
      " [ 2.875  3.25   3.625  4.     4.375]\n",
      " [ 4.75   5.125  5.5    5.875  6.25 ]\n",
      " [ 6.625  7.     7.375  7.75   8.125]\n",
      " [ 8.5    8.875  9.25   9.625 10.   ]]\n"
     ]
    }
   ],
   "source": [
    "print(\"one dimension array by linspace\")\n",
    "s = np.linspace(1,10,25)\n",
    "print(s)\n",
    "d = s.reshape(5,5)\n",
    "print(d)\n"
   ]
  },
  {
   "cell_type": "code",
   "execution_count": 119,
   "id": "24206660",
   "metadata": {},
   "outputs": [
    {
     "name": "stdout",
     "output_type": "stream",
     "text": [
      "by linspace function: [[[ 1  2]\n",
      "  [ 3  4]]\n",
      "\n",
      " [[ 5  6]\n",
      "  [ 7  8]]\n",
      "\n",
      " [[ 9 10]\n",
      "  [11 12]]]\n",
      "[ 1  2  3  4  5  6  7  8  9 10 11 12]\n",
      "by arange function:[ 1  2  3  4  5  6  7  8  9 10 11 12]\n",
      "[[[ 1  2]\n",
      "  [ 3  4]]\n",
      "\n",
      " [[ 5  6]\n",
      "  [ 7  8]]\n",
      "\n",
      " [[ 9 10]\n",
      "  [11 12]]]\n"
     ]
    }
   ],
   "source": [
    "print(\"by linspace function:\")\n",
    "\n",
    "arr = np.linspace(1,12,12 , dtype = int)\n",
    "arr2 = arr.reshape(3,2,2)\n",
    "print(arr2)\n",
    "print(arr)\n",
    "print(\"by arange function:\")\n",
    "array_1 = np.arange(1,13,1)\n",
    "print(array_1)\n",
    "array_2 = array_1.reshape(3,2,2)\n",
    "print(array_2)"
   ]
  },
  {
   "cell_type": "markdown",
   "id": "79990747",
   "metadata": {},
   "source": [
    "# ravel function"
   ]
  },
  {
   "cell_type": "code",
   "execution_count": 120,
   "id": "cf8f3789",
   "metadata": {},
   "outputs": [
    {
     "data": {
      "text/plain": [
       "array([1, 2, 3, 4, 5, 6, 7, 8, 5, 1, 1, 1, 2, 2, 2, 3, 3, 3])"
      ]
     },
     "execution_count": 120,
     "metadata": {},
     "output_type": "execute_result"
    }
   ],
   "source": [
    "#convert multi dimensional to one dimensional\n",
    "c_3d = np.array([[[1,2,3],[4,5,6],[7,8,5]],[[1,1,1],[2,2,2],[3,3,3]]])\n",
    "c_3d.ravel()"
   ]
  },
  {
   "cell_type": "markdown",
   "id": "7b38f5c5",
   "metadata": {},
   "source": [
    "# transpose function"
   ]
  },
  {
   "cell_type": "code",
   "execution_count": 125,
   "id": "8d3daeca",
   "metadata": {},
   "outputs": [
    {
     "data": {
      "text/plain": [
       "array([[1, 4, 7, 1, 2],\n",
       "       [2, 5, 8, 1, 2],\n",
       "       [3, 6, 5, 1, 2],\n",
       "       [4, 8, 7, 5, 4],\n",
       "       [5, 9, 9, 6, 5]])"
      ]
     },
     "execution_count": 125,
     "metadata": {},
     "output_type": "execute_result"
    }
   ],
   "source": [
    "#transpose() or T() row to column or column to row\n",
    "c_3d = np.array([[1,2,3,4,5],[4,5,6,8,9],[7,8,5,7,9],[1,1,1,5,6],[2,2,2,4,5]])\n",
    "# c_3d.transpose()\n",
    "c_3d.T"
   ]
  },
  {
   "cell_type": "code",
   "execution_count": 133,
   "id": "97cc7236",
   "metadata": {},
   "outputs": [
    {
     "name": "stdout",
     "output_type": "stream",
     "text": [
      "[[1 2 3]\n",
      " [4 5 6]\n",
      " [7 8 9]]\n",
      "[[1 2 3]\n",
      " [4 5 6]\n",
      " [7 8 9]]\n"
     ]
    }
   ],
   "source": [
    "array1 = np.arange(1,10).reshape(3,3)\n",
    "array2 = np.arange(1,10).reshape(3,3)\n",
    "print(array1)\n",
    "print(array2)"
   ]
  },
  {
   "cell_type": "markdown",
   "id": "a192b1fa",
   "metadata": {},
   "source": [
    "# mathematical operation using Numpy"
   ]
  },
  {
   "cell_type": "code",
   "execution_count": 134,
   "id": "29aa3dac",
   "metadata": {},
   "outputs": [
    {
     "name": "stdout",
     "output_type": "stream",
     "text": [
      "[[ 2  4  6]\n",
      " [ 8 10 12]\n",
      " [14 16 18]]\n"
     ]
    }
   ],
   "source": [
    "print(array1+array2)"
   ]
  },
  {
   "cell_type": "code",
   "execution_count": 135,
   "id": "bb614a5a",
   "metadata": {},
   "outputs": [
    {
     "name": "stdout",
     "output_type": "stream",
     "text": [
      "[[0 0 0]\n",
      " [0 0 0]\n",
      " [0 0 0]]\n"
     ]
    }
   ],
   "source": [
    "print(array1-array2)"
   ]
  },
  {
   "cell_type": "code",
   "execution_count": 136,
   "id": "bdfe5578",
   "metadata": {},
   "outputs": [
    {
     "name": "stdout",
     "output_type": "stream",
     "text": [
      "[[ 1  4  9]\n",
      " [16 25 36]\n",
      " [49 64 81]]\n"
     ]
    }
   ],
   "source": [
    "print(array1*array2) #this is not actual matrix multiplication(elemenmt to element)"
   ]
  },
  {
   "cell_type": "code",
   "execution_count": 139,
   "id": "25ab911e",
   "metadata": {},
   "outputs": [
    {
     "name": "stdout",
     "output_type": "stream",
     "text": [
      "[[ 30  36  42]\n",
      " [ 66  81  96]\n",
      " [102 126 150]]\n"
     ]
    }
   ],
   "source": [
    "print(array1@array2)"
   ]
  },
  {
   "cell_type": "code",
   "execution_count": 141,
   "id": "4fb5a177",
   "metadata": {},
   "outputs": [
    {
     "name": "stdout",
     "output_type": "stream",
     "text": [
      "[[ 30  36  42]\n",
      " [ 66  81  96]\n",
      " [102 126 150]]\n"
     ]
    }
   ],
   "source": [
    "print(array1.dot(array2))"
   ]
  },
  {
   "cell_type": "code",
   "execution_count": 142,
   "id": "fd6b8c8b",
   "metadata": {},
   "outputs": [
    {
     "data": {
      "text/plain": [
       "array([[ 2,  4,  6],\n",
       "       [ 8, 10, 12],\n",
       "       [14, 16, 18]])"
      ]
     },
     "execution_count": 142,
     "metadata": {},
     "output_type": "execute_result"
    }
   ],
   "source": [
    "np.add(array1,array2)"
   ]
  },
  {
   "cell_type": "code",
   "execution_count": 145,
   "id": "bd5b13b5",
   "metadata": {},
   "outputs": [
    {
     "data": {
      "text/plain": [
       "array([[1., 1., 1.],\n",
       "       [1., 1., 1.],\n",
       "       [1., 1., 1.]])"
      ]
     },
     "execution_count": 145,
     "metadata": {},
     "output_type": "execute_result"
    }
   ],
   "source": [
    "np.divide(array1,array2)"
   ]
  },
  {
   "cell_type": "code",
   "execution_count": 147,
   "id": "c90cd3dd",
   "metadata": {},
   "outputs": [
    {
     "data": {
      "text/plain": [
       "array([[0, 0, 0],\n",
       "       [0, 0, 0],\n",
       "       [0, 0, 0]])"
      ]
     },
     "execution_count": 147,
     "metadata": {},
     "output_type": "execute_result"
    }
   ],
   "source": [
    "np.subtract(array1,array2)"
   ]
  },
  {
   "cell_type": "markdown",
   "id": "6de0c599",
   "metadata": {},
   "source": [
    "# Maximum and Minimum"
   ]
  },
  {
   "cell_type": "code",
   "execution_count": 3,
   "id": "cfaab350",
   "metadata": {},
   "outputs": [
    {
     "name": "stdout",
     "output_type": "stream",
     "text": [
      "[[1 2 3]\n",
      " [4 5 6]\n",
      " [7 8 9]]\n"
     ]
    }
   ],
   "source": [
    "arr1 = np.arange(1,10).reshape(3,3)\n",
    "print(arr1)"
   ]
  },
  {
   "cell_type": "code",
   "execution_count": 8,
   "id": "58f3760d",
   "metadata": {},
   "outputs": [
    {
     "name": "stdout",
     "output_type": "stream",
     "text": [
      "8\n",
      "9\n"
     ]
    }
   ],
   "source": [
    "print(arr1.argmax())\n",
    "print(arr1.max())\n"
   ]
  },
  {
   "cell_type": "code",
   "execution_count": 6,
   "id": "acfd2ced",
   "metadata": {},
   "outputs": [
    {
     "data": {
      "text/plain": [
       "array([7, 8, 9])"
      ]
     },
     "execution_count": 6,
     "metadata": {},
     "output_type": "execute_result"
    }
   ],
   "source": [
    "arr1.max(axis=0)"
   ]
  },
  {
   "cell_type": "code",
   "execution_count": 7,
   "id": "9515689f",
   "metadata": {},
   "outputs": [
    {
     "data": {
      "text/plain": [
       "array([3, 6, 9])"
      ]
     },
     "execution_count": 7,
     "metadata": {},
     "output_type": "execute_result"
    }
   ],
   "source": [
    "arr1.max(axis=1)"
   ]
  },
  {
   "cell_type": "code",
   "execution_count": 9,
   "id": "b66d6fd7",
   "metadata": {},
   "outputs": [
    {
     "data": {
      "text/plain": [
       "array([1, 4, 7])"
      ]
     },
     "execution_count": 9,
     "metadata": {},
     "output_type": "execute_result"
    }
   ],
   "source": [
    "arr1.min(axis=1)"
   ]
  },
  {
   "cell_type": "code",
   "execution_count": 10,
   "id": "851873f3",
   "metadata": {},
   "outputs": [
    {
     "data": {
      "text/plain": [
       "array([1, 2, 3])"
      ]
     },
     "execution_count": 10,
     "metadata": {},
     "output_type": "execute_result"
    }
   ],
   "source": [
    "arr1.min(axis=0)"
   ]
  },
  {
   "cell_type": "code",
   "execution_count": 11,
   "id": "2d64d109",
   "metadata": {},
   "outputs": [
    {
     "data": {
      "text/plain": [
       "45"
      ]
     },
     "execution_count": 11,
     "metadata": {},
     "output_type": "execute_result"
    }
   ],
   "source": [
    "np.sum(arr1)"
   ]
  },
  {
   "cell_type": "code",
   "execution_count": 12,
   "id": "31374e67",
   "metadata": {},
   "outputs": [
    {
     "data": {
      "text/plain": [
       "array([12, 15, 18])"
      ]
     },
     "execution_count": 12,
     "metadata": {},
     "output_type": "execute_result"
    }
   ],
   "source": [
    "np.sum(arr1,axis=0) #column wise"
   ]
  },
  {
   "cell_type": "code",
   "execution_count": 13,
   "id": "9e0a3314",
   "metadata": {},
   "outputs": [
    {
     "data": {
      "text/plain": [
       "array([ 6, 15, 24])"
      ]
     },
     "execution_count": 13,
     "metadata": {},
     "output_type": "execute_result"
    }
   ],
   "source": [
    "np.sum(arr1,axis=1) #row wise"
   ]
  },
  {
   "cell_type": "code",
   "execution_count": 14,
   "id": "f25d45a4",
   "metadata": {},
   "outputs": [
    {
     "data": {
      "text/plain": [
       "5.0"
      ]
     },
     "execution_count": 14,
     "metadata": {},
     "output_type": "execute_result"
    }
   ],
   "source": [
    "np.mean(arr1) #mean of the array"
   ]
  },
  {
   "cell_type": "code",
   "execution_count": 16,
   "id": "45c71f77",
   "metadata": {},
   "outputs": [
    {
     "data": {
      "text/plain": [
       "5.0"
      ]
     },
     "execution_count": 16,
     "metadata": {},
     "output_type": "execute_result"
    }
   ],
   "source": [
    "np.median(arr1) #median of the array"
   ]
  },
  {
   "cell_type": "code",
   "execution_count": 17,
   "id": "917934ed",
   "metadata": {},
   "outputs": [
    {
     "data": {
      "text/plain": [
       "array([[1.        , 1.41421356, 1.73205081],\n",
       "       [2.        , 2.23606798, 2.44948974],\n",
       "       [2.64575131, 2.82842712, 3.        ]])"
      ]
     },
     "execution_count": 17,
     "metadata": {},
     "output_type": "execute_result"
    }
   ],
   "source": [
    "np.sqrt(arr1) #square root"
   ]
  },
  {
   "cell_type": "code",
   "execution_count": 18,
   "id": "3760e796",
   "metadata": {},
   "outputs": [
    {
     "data": {
      "text/plain": [
       "2.581988897471611"
      ]
     },
     "execution_count": 18,
     "metadata": {},
     "output_type": "execute_result"
    }
   ],
   "source": [
    "#standard deviation\n",
    "np.std(arr1)"
   ]
  },
  {
   "cell_type": "code",
   "execution_count": 19,
   "id": "f97335e0",
   "metadata": {},
   "outputs": [
    {
     "data": {
      "text/plain": [
       "array([[2.71828183e+00, 7.38905610e+00, 2.00855369e+01],\n",
       "       [5.45981500e+01, 1.48413159e+02, 4.03428793e+02],\n",
       "       [1.09663316e+03, 2.98095799e+03, 8.10308393e+03]])"
      ]
     },
     "execution_count": 19,
     "metadata": {},
     "output_type": "execute_result"
    }
   ],
   "source": [
    "np.exp(arr1) #exponent values"
   ]
  },
  {
   "cell_type": "code",
   "execution_count": 21,
   "id": "828d4768",
   "metadata": {},
   "outputs": [
    {
     "data": {
      "text/plain": [
       "array([[0.        , 0.69314718, 1.09861229],\n",
       "       [1.38629436, 1.60943791, 1.79175947],\n",
       "       [1.94591015, 2.07944154, 2.19722458]])"
      ]
     },
     "execution_count": 21,
     "metadata": {},
     "output_type": "execute_result"
    }
   ],
   "source": [
    "np.log(arr1) #log base e of every element"
   ]
  },
  {
   "cell_type": "code",
   "execution_count": 65,
   "id": "f22e7d87",
   "metadata": {},
   "outputs": [
    {
     "data": {
      "text/plain": [
       "array([[0.        , 0.30103   , 0.47712125, 0.60205999],\n",
       "       [0.95424251, 1.        , 1.04139269, 1.07918125],\n",
       "       [1.23044892, 1.25527251, 1.2787536 , 1.30103   ],\n",
       "       [1.39794001, 1.41497335, 1.43136376, 1.44715803],\n",
       "       [1.51851394, 1.53147892, 1.54406804, 1.5563025 ]])"
      ]
     },
     "execution_count": 65,
     "metadata": {},
     "output_type": "execute_result"
    }
   ],
   "source": [
    "np.log10(arr1) # log base 10 of every element "
   ]
  },
  {
   "cell_type": "markdown",
   "id": "c253e119",
   "metadata": {},
   "source": [
    "# Slicing"
   ]
  },
  {
   "cell_type": "code",
   "execution_count": 26,
   "id": "56241f89",
   "metadata": {},
   "outputs": [
    {
     "name": "stdout",
     "output_type": "stream",
     "text": [
      "[[  1   2   3   4   5   6   7   8   9  10]\n",
      " [ 11  12  13  14  15  16  17  18  19  20]\n",
      " [ 21  22  23  24  25  26  27  28  29  30]\n",
      " [ 31  32  33  34  35  36  37  38  39  40]\n",
      " [ 41  42  43  44  45  46  47  48  49  50]\n",
      " [ 51  52  53  54  55  56  57  58  59  60]\n",
      " [ 61  62  63  64  65  66  67  68  69  70]\n",
      " [ 71  72  73  74  75  76  77  78  79  80]\n",
      " [ 81  82  83  84  85  86  87  88  89  90]\n",
      " [ 91  92  93  94  95  96  97  98  99 100]]\n",
      "2\n"
     ]
    }
   ],
   "source": [
    "array = np.arange(1,101).reshape(10,10)\n",
    "print(array)"
   ]
  },
  {
   "cell_type": "code",
   "execution_count": 30,
   "id": "42b47ae3",
   "metadata": {},
   "outputs": [
    {
     "data": {
      "text/plain": [
       "1"
      ]
     },
     "execution_count": 30,
     "metadata": {},
     "output_type": "execute_result"
    }
   ],
   "source": [
    "array[0,0] #array[row,column]"
   ]
  },
  {
   "cell_type": "code",
   "execution_count": 29,
   "id": "98207cfc",
   "metadata": {},
   "outputs": [
    {
     "data": {
      "text/plain": [
       "46"
      ]
     },
     "execution_count": 29,
     "metadata": {},
     "output_type": "execute_result"
    }
   ],
   "source": [
    "array[4,5]"
   ]
  },
  {
   "cell_type": "code",
   "execution_count": 31,
   "id": "e5417b6c",
   "metadata": {},
   "outputs": [
    {
     "data": {
      "text/plain": [
       "array([[  1,   2,   3,   4,   5,   6,   7,   8,   9,  10],\n",
       "       [ 11,  12,  13,  14,  15,  16,  17,  18,  19,  20],\n",
       "       [ 21,  22,  23,  24,  25,  26,  27,  28,  29,  30],\n",
       "       [ 31,  32,  33,  34,  35,  36,  37,  38,  39,  40],\n",
       "       [ 41,  42,  43,  44,  45,  46,  47,  48,  49,  50],\n",
       "       [ 51,  52,  53,  54,  55,  56,  57,  58,  59,  60],\n",
       "       [ 61,  62,  63,  64,  65,  66,  67,  68,  69,  70],\n",
       "       [ 71,  72,  73,  74,  75,  76,  77,  78,  79,  80],\n",
       "       [ 81,  82,  83,  84,  85,  86,  87,  88,  89,  90],\n",
       "       [ 91,  92,  93,  94,  95,  96,  97,  98,  99, 100]])"
      ]
     },
     "execution_count": 31,
     "metadata": {},
     "output_type": "execute_result"
    }
   ],
   "source": [
    "array[:] #all rows all column"
   ]
  },
  {
   "cell_type": "code",
   "execution_count": 35,
   "id": "01181bbe",
   "metadata": {},
   "outputs": [
    {
     "data": {
      "text/plain": [
       "array([[ 3,  4,  5],\n",
       "       [13, 14, 15],\n",
       "       [23, 24, 25],\n",
       "       [33, 34, 35],\n",
       "       [43, 44, 45],\n",
       "       [53, 54, 55],\n",
       "       [63, 64, 65],\n",
       "       [73, 74, 75],\n",
       "       [83, 84, 85],\n",
       "       [93, 94, 95]])"
      ]
     },
     "execution_count": 35,
     "metadata": {},
     "output_type": "execute_result"
    }
   ],
   "source": [
    "array[:,2:5] #slicing of array"
   ]
  },
  {
   "cell_type": "code",
   "execution_count": 37,
   "id": "6ede78fe",
   "metadata": {},
   "outputs": [
    {
     "data": {
      "text/plain": [
       "array([[23, 24, 25, 26],\n",
       "       [33, 34, 35, 36],\n",
       "       [43, 44, 45, 46]])"
      ]
     },
     "execution_count": 37,
     "metadata": {},
     "output_type": "execute_result"
    }
   ],
   "source": [
    "array[2:5,2:6]"
   ]
  },
  {
   "cell_type": "code",
   "execution_count": 39,
   "id": "bb4aebb0",
   "metadata": {},
   "outputs": [
    {
     "data": {
      "text/plain": [
       "array([[ 7,  8],\n",
       "       [17, 18],\n",
       "       [27, 28],\n",
       "       [37, 38],\n",
       "       [47, 48],\n",
       "       [57, 58],\n",
       "       [67, 68],\n",
       "       [77, 78],\n",
       "       [87, 88],\n",
       "       [97, 98]])"
      ]
     },
     "execution_count": 39,
     "metadata": {},
     "output_type": "execute_result"
    }
   ],
   "source": [
    "array[:,6:8]"
   ]
  },
  {
   "cell_type": "code",
   "execution_count": 42,
   "id": "124bd8fd",
   "metadata": {},
   "outputs": [
    {
     "data": {
      "text/plain": [
       "array([[11, 12, 13, 14, 15, 16, 17, 18, 19, 20],\n",
       "       [21, 22, 23, 24, 25, 26, 27, 28, 29, 30]])"
      ]
     },
     "execution_count": 42,
     "metadata": {},
     "output_type": "execute_result"
    }
   ],
   "source": [
    "array[1:3,]"
   ]
  },
  {
   "cell_type": "code",
   "execution_count": 45,
   "id": "3bf20fd4",
   "metadata": {},
   "outputs": [
    {
     "data": {
      "text/plain": [
       "array([[61, 62, 63, 64, 65, 66, 67, 68, 69, 70],\n",
       "       [71, 72, 73, 74, 75, 76, 77, 78, 79, 80]])"
      ]
     },
     "execution_count": 45,
     "metadata": {},
     "output_type": "execute_result"
    }
   ],
   "source": [
    "array[6:8,]"
   ]
  },
  {
   "cell_type": "code",
   "execution_count": 46,
   "id": "0ee9dc6f",
   "metadata": {},
   "outputs": [
    {
     "name": "stdout",
     "output_type": "stream",
     "text": [
      "[[  1   2   3   4   5   6   7   8   9  10]\n",
      " [ 11  12  13  14  15  16  17  18  19  20]\n",
      " [ 21  22  23  24  25  26  27  28  29  30]\n",
      " [ 31  32  33  34  35  36  37  38  39  40]\n",
      " [ 41  42  43  44  45  46  47  48  49  50]\n",
      " [ 51  52  53  54  55  56  57  58  59  60]\n",
      " [ 61  62  63  64  65  66  67  68  69  70]\n",
      " [ 71  72  73  74  75  76  77  78  79  80]\n",
      " [ 81  82  83  84  85  86  87  88  89  90]\n",
      " [ 91  92  93  94  95  96  97  98  99 100]]\n"
     ]
    }
   ],
   "source": [
    "print(array)"
   ]
  },
  {
   "cell_type": "code",
   "execution_count": 48,
   "id": "9dc4dc77",
   "metadata": {},
   "outputs": [
    {
     "data": {
      "text/plain": [
       "array([[23, 24],\n",
       "       [33, 34]])"
      ]
     },
     "execution_count": 48,
     "metadata": {},
     "output_type": "execute_result"
    }
   ],
   "source": [
    "array[2:4,2:4]"
   ]
  },
  {
   "cell_type": "code",
   "execution_count": 51,
   "id": "2a908660",
   "metadata": {},
   "outputs": [
    {
     "data": {
      "text/plain": [
       "array([[55, 56, 57],\n",
       "       [65, 66, 67],\n",
       "       [75, 76, 77]])"
      ]
     },
     "execution_count": 51,
     "metadata": {},
     "output_type": "execute_result"
    }
   ],
   "source": [
    "array[5:8,4:7]"
   ]
  },
  {
   "cell_type": "code",
   "execution_count": 52,
   "id": "cfbf2d22",
   "metadata": {},
   "outputs": [
    {
     "name": "stdout",
     "output_type": "stream",
     "text": [
      "[[ 1  2  3  4  5  6  7  8]\n",
      " [ 9 10 11 12 13 14 15 16]\n",
      " [17 18 19 20 21 22 23 24]\n",
      " [25 26 27 28 29 30 31 32]\n",
      " [33 34 35 36 37 38 39 40]]\n"
     ]
    }
   ],
   "source": [
    "array2 = np.arange(1,41).reshape(5,8)\n",
    "print(array2)"
   ]
  },
  {
   "cell_type": "code",
   "execution_count": 64,
   "id": "80e6e5b9",
   "metadata": {},
   "outputs": [
    {
     "name": "stdout",
     "output_type": "stream",
     "text": [
      "[[ 1  2  3  4]\n",
      " [ 9 10 11 12]\n",
      " [17 18 19 20]\n",
      " [25 26 27 28]\n",
      " [33 34 35 36]]\n",
      "\n",
      "\n",
      "[[ 5  6  7  8]\n",
      " [13 14 15 16]\n",
      " [21 22 23 24]\n",
      " [29 30 31 32]\n",
      " [37 38 39 40]]\n",
      "\n",
      "\n",
      "[[ 6  8 10 12]\n",
      " [22 24 26 28]\n",
      " [38 40 42 44]\n",
      " [54 56 58 60]\n",
      " [70 72 74 76]]\n"
     ]
    }
   ],
   "source": [
    "arr1 = array2[:,0:4]\n",
    "print(arr1)\n",
    "print(\"\\n\")\n",
    "arr2 = array2[:,4:8]\n",
    "print(arr2)\n",
    "print(\"\\n\")\n",
    "print(np.add(arr1,arr2))\n",
    "# print(arr1+arr2)"
   ]
  },
  {
   "cell_type": "code",
   "execution_count": 68,
   "id": "7ede7d30",
   "metadata": {},
   "outputs": [
    {
     "data": {
      "text/plain": [
       "36"
      ]
     },
     "execution_count": 68,
     "metadata": {},
     "output_type": "execute_result"
    }
   ],
   "source": [
    "arr1.max()"
   ]
  },
  {
   "cell_type": "code",
   "execution_count": 69,
   "id": "0030ddda",
   "metadata": {},
   "outputs": [
    {
     "data": {
      "text/plain": [
       "40"
      ]
     },
     "execution_count": 69,
     "metadata": {},
     "output_type": "execute_result"
    }
   ],
   "source": [
    "arr2.max()"
   ]
  },
  {
   "cell_type": "code",
   "execution_count": 70,
   "id": "840d26a3",
   "metadata": {},
   "outputs": [
    {
     "data": {
      "text/plain": [
       "array([ 85,  90,  95, 100])"
      ]
     },
     "execution_count": 70,
     "metadata": {},
     "output_type": "execute_result"
    }
   ],
   "source": [
    "np.sum(arr1,axis = 0)"
   ]
  },
  {
   "cell_type": "code",
   "execution_count": 71,
   "id": "296f8ae1",
   "metadata": {},
   "outputs": [
    {
     "data": {
      "text/plain": [
       "array([105, 110, 115, 120])"
      ]
     },
     "execution_count": 71,
     "metadata": {},
     "output_type": "execute_result"
    }
   ],
   "source": [
    "np.sum(arr2,axis=0)"
   ]
  },
  {
   "cell_type": "code",
   "execution_count": 72,
   "id": "763f9ee3",
   "metadata": {},
   "outputs": [
    {
     "data": {
      "text/plain": [
       "array([ 10,  42,  74, 106, 138])"
      ]
     },
     "execution_count": 72,
     "metadata": {},
     "output_type": "execute_result"
    }
   ],
   "source": [
    "np.sum(arr1,axis = 1)"
   ]
  },
  {
   "cell_type": "code",
   "execution_count": 73,
   "id": "a48e92f0",
   "metadata": {},
   "outputs": [
    {
     "data": {
      "text/plain": [
       "array([ 26,  58,  90, 122, 154])"
      ]
     },
     "execution_count": 73,
     "metadata": {},
     "output_type": "execute_result"
    }
   ],
   "source": [
    "np.sum(arr2,axis = 1)"
   ]
  },
  {
   "cell_type": "markdown",
   "id": "e3dabd6e",
   "metadata": {},
   "source": [
    "# Random()"
   ]
  },
  {
   "cell_type": "code",
   "execution_count": 81,
   "id": "3dfb3cd6",
   "metadata": {},
   "outputs": [
    {
     "data": {
      "text/plain": [
       "array([0.25602605, 0.04804745, 0.33773901, 0.30840001, 0.15226558,\n",
       "       0.07854504, 0.36166333, 0.94278882, 0.02820411, 0.94390458,\n",
       "       0.71468708, 0.44891594, 0.21708281, 0.8506968 , 0.84050398,\n",
       "       0.77025273, 0.51589955, 0.43733056, 0.41031781, 0.54057292])"
      ]
     },
     "execution_count": 81,
     "metadata": {},
     "output_type": "execute_result"
    }
   ],
   "source": [
    "import random\n",
    "np.random.random(20)"
   ]
  },
  {
   "cell_type": "code",
   "execution_count": 83,
   "id": "c61fd7d3",
   "metadata": {},
   "outputs": [
    {
     "data": {
      "text/plain": [
       "array([[0.09986492, 0.48403801, 0.31767561],\n",
       "       [0.38962519, 0.24720741, 0.29133943],\n",
       "       [0.49075131, 0.63221939, 0.05552892]])"
      ]
     },
     "execution_count": 83,
     "metadata": {},
     "output_type": "execute_result"
    }
   ],
   "source": [
    "np.random.random((3,3))"
   ]
  },
  {
   "cell_type": "markdown",
   "id": "0d1201dc",
   "metadata": {},
   "source": [
    "# Randit()"
   ]
  },
  {
   "cell_type": "code",
   "execution_count": 127,
   "id": "1fa4409b",
   "metadata": {},
   "outputs": [
    {
     "data": {
      "text/plain": [
       "934"
      ]
     },
     "execution_count": 127,
     "metadata": {},
     "output_type": "execute_result"
    }
   ],
   "source": [
    "np.random.randint(1000) # generating random value between 0 to 100"
   ]
  },
  {
   "cell_type": "code",
   "execution_count": 134,
   "id": "3c114843",
   "metadata": {},
   "outputs": [
    {
     "data": {
      "text/plain": [
       "23"
      ]
     },
     "execution_count": 134,
     "metadata": {},
     "output_type": "execute_result"
    }
   ],
   "source": [
    "np.random.randint(20,25)"
   ]
  },
  {
   "cell_type": "code",
   "execution_count": 135,
   "id": "e0a8e7ff",
   "metadata": {},
   "outputs": [
    {
     "data": {
      "text/plain": [
       "array([[20, 24, 24],\n",
       "       [22, 22, 23],\n",
       "       [22, 20, 23]])"
      ]
     },
     "execution_count": 135,
     "metadata": {},
     "output_type": "execute_result"
    }
   ],
   "source": [
    "np.random.randint(20,25,(3,3))"
   ]
  },
  {
   "cell_type": "code",
   "execution_count": 136,
   "id": "b55089ed",
   "metadata": {},
   "outputs": [
    {
     "data": {
      "text/plain": [
       "array([22, 24, 22])"
      ]
     },
     "execution_count": 136,
     "metadata": {},
     "output_type": "execute_result"
    }
   ],
   "source": [
    "np.random.randint(20,25,3)"
   ]
  },
  {
   "cell_type": "code",
   "execution_count": 137,
   "id": "4edbdadc",
   "metadata": {},
   "outputs": [
    {
     "data": {
      "text/plain": [
       "array([[21, 21, 20, 23],\n",
       "       [22, 21, 24, 22],\n",
       "       [24, 20, 23, 23],\n",
       "       [22, 22, 20, 24]])"
      ]
     },
     "execution_count": 137,
     "metadata": {},
     "output_type": "execute_result"
    }
   ],
   "source": [
    "np.random.randint(20,25,(4,4)) #one matrix of 4X4"
   ]
  },
  {
   "cell_type": "code",
   "execution_count": 138,
   "id": "c8d7caa8",
   "metadata": {},
   "outputs": [
    {
     "data": {
      "text/plain": [
       "array([[[23, 22, 23, 21, 23],\n",
       "        [22, 23, 20, 21, 24],\n",
       "        [22, 24, 23, 24, 23],\n",
       "        [21, 24, 24, 22, 23],\n",
       "        [24, 21, 23, 22, 24]],\n",
       "\n",
       "       [[20, 24, 24, 20, 21],\n",
       "        [24, 20, 23, 23, 20],\n",
       "        [20, 20, 23, 20, 24],\n",
       "        [24, 22, 20, 24, 20],\n",
       "        [20, 24, 24, 24, 22]]])"
      ]
     },
     "execution_count": 138,
     "metadata": {},
     "output_type": "execute_result"
    }
   ],
   "source": [
    "np.random.randint(20,25,(2,5,5)) #two matrix of 5X5"
   ]
  },
  {
   "cell_type": "markdown",
   "id": "5a578191",
   "metadata": {},
   "source": [
    "# Choice()"
   ]
  },
  {
   "cell_type": "code",
   "execution_count": 165,
   "id": "a69619ad",
   "metadata": {},
   "outputs": [
    {
     "data": {
      "text/plain": [
       "5"
      ]
     },
     "execution_count": 165,
     "metadata": {},
     "output_type": "execute_result"
    }
   ],
   "source": [
    "p = [1,2,3,4,5,6,7,8,9]\n",
    "np.random.choice(p) #select from specific given list "
   ]
  },
  {
   "cell_type": "code",
   "execution_count": 168,
   "id": "b6fb225b",
   "metadata": {},
   "outputs": [
    {
     "data": {
      "text/plain": [
       "array([4, 5, 6, 7, 4])"
      ]
     },
     "execution_count": 168,
     "metadata": {},
     "output_type": "execute_result"
    }
   ],
   "source": [
    "p = [1,2,3,4,5,6,7,8,9]\n",
    "np.random.choice(p,5) "
   ]
  },
  {
   "cell_type": "markdown",
   "id": "72c6ae64",
   "metadata": {},
   "source": [
    "# Permutation"
   ]
  },
  {
   "cell_type": "code",
   "execution_count": 185,
   "id": "9c3255c0",
   "metadata": {},
   "outputs": [
    {
     "data": {
      "text/plain": [
       "array([2, 3, 1])"
      ]
     },
     "execution_count": 185,
     "metadata": {},
     "output_type": "execute_result"
    }
   ],
   "source": [
    "k = [1,2,3]\n",
    "np.random.permutation(k)"
   ]
  },
  {
   "cell_type": "code",
   "execution_count": 190,
   "id": "b31ded99",
   "metadata": {},
   "outputs": [
    {
     "name": "stdout",
     "output_type": "stream",
     "text": [
      "[[ 1  2  3  4]\n",
      " [ 5  6  7  8]\n",
      " [ 9 10 11 12]\n",
      " [13 14 15 16]]\n",
      "[[17 18 19 20]\n",
      " [21 22 23 24]\n",
      " [25 26 27 28]\n",
      " [29 30 31 32]]\n"
     ]
    }
   ],
   "source": [
    "arr1 = np.arange(1,17).reshape(4,4)\n",
    "print(arr1)\n",
    "arr2 = np.arange(17,33).reshape(4,4)\n",
    "print(arr2)"
   ]
  },
  {
   "cell_type": "code",
   "execution_count": 191,
   "id": "035aad01",
   "metadata": {},
   "outputs": [
    {
     "data": {
      "text/plain": [
       "array([[ 1,  2,  3,  4],\n",
       "       [ 5,  6,  7,  8],\n",
       "       [ 9, 10, 11, 12],\n",
       "       [13, 14, 15, 16],\n",
       "       [17, 18, 19, 20],\n",
       "       [21, 22, 23, 24],\n",
       "       [25, 26, 27, 28],\n",
       "       [29, 30, 31, 32]])"
      ]
     },
     "execution_count": 191,
     "metadata": {},
     "output_type": "execute_result"
    }
   ],
   "source": [
    "#joining by column\n",
    "np.concatenate((arr1,arr2))"
   ]
  },
  {
   "cell_type": "code",
   "execution_count": 193,
   "id": "734c9431",
   "metadata": {},
   "outputs": [
    {
     "data": {
      "text/plain": [
       "array([[ 1,  2,  3,  4, 17, 18, 19, 20],\n",
       "       [ 5,  6,  7,  8, 21, 22, 23, 24],\n",
       "       [ 9, 10, 11, 12, 25, 26, 27, 28],\n",
       "       [13, 14, 15, 16, 29, 30, 31, 32]])"
      ]
     },
     "execution_count": 193,
     "metadata": {},
     "output_type": "execute_result"
    }
   ],
   "source": [
    "np.concatenate((arr1,arr2),axis = 1) #joining row wise"
   ]
  },
  {
   "cell_type": "markdown",
   "id": "d7d0bbf0",
   "metadata": {},
   "source": [
    "# Split()"
   ]
  },
  {
   "cell_type": "code",
   "execution_count": 195,
   "id": "fa7d3763",
   "metadata": {},
   "outputs": [
    {
     "data": {
      "text/plain": [
       "[array([[ 1,  2,  3,  4,  5,  6,  7,  8,  9, 10],\n",
       "        [11, 12, 13, 14, 15, 16, 17, 18, 19, 20],\n",
       "        [21, 22, 23, 24, 25, 26, 27, 28, 29, 30],\n",
       "        [31, 32, 33, 34, 35, 36, 37, 38, 39, 40],\n",
       "        [41, 42, 43, 44, 45, 46, 47, 48, 49, 50]]),\n",
       " array([[ 51,  52,  53,  54,  55,  56,  57,  58,  59,  60],\n",
       "        [ 61,  62,  63,  64,  65,  66,  67,  68,  69,  70],\n",
       "        [ 71,  72,  73,  74,  75,  76,  77,  78,  79,  80],\n",
       "        [ 81,  82,  83,  84,  85,  86,  87,  88,  89,  90],\n",
       "        [ 91,  92,  93,  94,  95,  96,  97,  98,  99, 100]])]"
      ]
     },
     "execution_count": 195,
     "metadata": {},
     "output_type": "execute_result"
    }
   ],
   "source": [
    "np.split(array,2) #spliting array in two parts"
   ]
  },
  {
   "cell_type": "code",
   "execution_count": 216,
   "id": "d0c09f86",
   "metadata": {},
   "outputs": [
    {
     "name": "stdout",
     "output_type": "stream",
     "text": [
      "[1609 2253 1828 2122 1834 1918 1458 1608 1886 1886 1010 2117 1010  777\n",
      " 1578 1017 1882  730 1244 1360  804  765 1471 2146  696 1379 1344 1372\n",
      " 1953  625  886 1255 1289 2035 1316 2165 1205 2255 1164 1694 1993 1285\n",
      " 1842 2006 1881  938  929 2073 1087 1839 1985 1657 1679 2171 1317 1871\n",
      " 2274 2273 1485 1692 2090 1919 1523 2299 1788 1665 2185 2025  722 2018\n",
      " 1399 1134 1582  777  932  945 2119 2042  818 1271 2429  743 1162 2130\n",
      " 1051 1374  677 1661 1094  881  850 2397 1187 1287  751 1424 2254 2489\n",
      " 1984 1634]\n"
     ]
    },
    {
     "data": {
      "text/plain": [
       "array([[   1609,    2253,    1828,    2122],\n",
       "       [   1834,    1918,    1458,    1608],\n",
       "       [   1886,    1886,    1010,    2117],\n",
       "       [   1010,     777,    1578,    1017],\n",
       "       [   1882,     730,    1244,    1360],\n",
       "       [    804,     765,    1471,    2146],\n",
       "       [    696,    1379,    1344,    1372],\n",
       "       [   1953,     625,     886,    1255],\n",
       "       [   1289,    2035,    1316,    2165],\n",
       "       [   1205,    2255,    1164,    1694],\n",
       "       [   1993,    1285,    1842,    2006],\n",
       "       [   1881,     938,     929,    2073],\n",
       "       [   1087,    1839,    1985,    1657],\n",
       "       [   1679,    2171,    1317,    1871],\n",
       "       [   2274,    2273,    1485,    1692],\n",
       "       [   2090,    1919,    1523,    2299],\n",
       "       [   1788,    1665,    2185,    2025],\n",
       "       [    722,    2018,    1399,    1134],\n",
       "       [   1582,     777,     932,     945],\n",
       "       [   2119,    2042,     818,    1271],\n",
       "       [   2429,     743,    1162,    2130],\n",
       "       [   1051,    1374,     677,    1661],\n",
       "       [   1094,     881,     850,    2397],\n",
       "       [   1187,    1287,     751,    1424],\n",
       "       [   2254,    2489,    1984,    1634],\n",
       "       [      3,       3,       3,       3],\n",
       "       [      2,       2,       2,       3],\n",
       "       [      3,       2,       2,       2],\n",
       "       [      2,       3,       3,       3],\n",
       "       [      3,       2,       2,       2],\n",
       "       [      2,       3,       2,       3],\n",
       "       [      3,       2,       2,       3],\n",
       "       [      3,       3,       2,       3],\n",
       "       [      2,       2,       3,       3],\n",
       "       [      3,       3,       2,       3],\n",
       "       [      2,       3,       3,       3],\n",
       "       [      2,       2,       2,       3],\n",
       "       [      2,       3,       2,       3],\n",
       "       [      2,       3,       2,       3],\n",
       "       [      2,       2,       2,       2],\n",
       "       [      2,       3,       2,       2],\n",
       "       [      3,       3,       2,       2],\n",
       "       [      3,       3,       2,       3],\n",
       "       [      2,       2,       3,       2],\n",
       "       [      3,       3,       3,       2],\n",
       "       [      3,       2,       2,       2],\n",
       "       [      2,       2,       2,       3],\n",
       "       [      3,       3,       2,       3],\n",
       "       [      2,       2,       2,       2],\n",
       "       [      2,       3,       3,       2],\n",
       "       [ 435844, 1775635, 1215848, 1861015],\n",
       "       [2298661,  767352,  841634, 3268145],\n",
       "       [4308988, 3836096,  684759, 2943675],\n",
       "       [ 707700, 2319369, 4688472, 4729149],\n",
       "       [4079865, 4501157, 3937818, 3348478],\n",
       "       [2561799, 4340579, 3588704, 4220595],\n",
       "       [4143104, 3915973,  995383, 4186428],\n",
       "       [1983762, 3668365, 1419552,  787464],\n",
       "       [2224252, 3941267,  812783, 2134854],\n",
       "       [4238161,  777938, 4761511, 3905874],\n",
       "       [4106803,  967814,  798920, 4728771],\n",
       "       [ 832811, 1503997, 4156811, 3227033],\n",
       "       [1309938, 3831436, 1442157, 3548763],\n",
       "       [3585309, 4135705, 2469670, 4874595],\n",
       "       [1213841, 4563477, 3254758, 4747660],\n",
       "       [3693745, 1406208, 4221403,  896649],\n",
       "       [1970625, 2619140, 1800261, 2914349],\n",
       "       [2069567, 4268111, 2754909,  672751],\n",
       "       [4375228, 2847579, 1660051,  665527],\n",
       "       [2133710, 2458777, 2211392, 3023608],\n",
       "       [ 417297, 3359359, 2731613, 2606717],\n",
       "       [1075253, 4000992, 3199594, 3374539],\n",
       "       [2051853, 3388065, 3515700, 2031326],\n",
       "       [2488984, 1751038, 4414441, 1393827],\n",
       "       [3800429, 4510266,  719216, 2378617],\n",
       "       [      5,       1,       5,       2],\n",
       "       [      2,       5,       4,       1],\n",
       "       [      1,       1,       1,       2],\n",
       "       [      4,       4,       2,       3],\n",
       "       [      2,       4,       5,       5],\n",
       "       [      4,       4,       5,       2],\n",
       "       [      2,       5,       1,       1],\n",
       "       [      2,       5,       2,       3],\n",
       "       [      2,       1,       2,       2],\n",
       "       [      5,       4,       5,       1],\n",
       "       [      2,       1,       5,       1],\n",
       "       [      2,       5,       3,       3],\n",
       "       [      4,       3,       1,       1],\n",
       "       [      2,       2,       5,       1],\n",
       "       [      4,       3,       2,       3],\n",
       "       [      1,       5,       1,       2],\n",
       "       [      1,       1,       4,       4],\n",
       "       [      1,       3,       1,       5],\n",
       "       [      4,       2,       4,       4],\n",
       "       [      2,       1,       3,       1],\n",
       "       [      4,       2,       2,       1],\n",
       "       [      2,       1,       5,       2],\n",
       "       [      1,       4,       1,       5],\n",
       "       [      3,       2,       1,       5],\n",
       "       [      4,       1,       1,       3]])"
      ]
     },
     "execution_count": 216,
     "metadata": {},
     "output_type": "execute_result"
    }
   ],
   "source": [
    "area = np.random.randint(600,2500,100)\n",
    "print(area)\n",
    "bhk = np.random.randint(2,4,100)\n",
    "price = np.random.randint(400000,5000000,100)\n",
    "balcony = np.random.randint(1,6,100)\n",
    "np.concatenate((area,bhk,price,balcony),axis = 0).reshape(100,4)"
   ]
  }
 ],
 "metadata": {
  "kernelspec": {
   "display_name": "Python 3 (ipykernel)",
   "language": "python",
   "name": "python3"
  },
  "language_info": {
   "codemirror_mode": {
    "name": "ipython",
    "version": 3
   },
   "file_extension": ".py",
   "mimetype": "text/x-python",
   "name": "python",
   "nbconvert_exporter": "python",
   "pygments_lexer": "ipython3",
   "version": "3.11.3"
  }
 },
 "nbformat": 4,
 "nbformat_minor": 5
}
