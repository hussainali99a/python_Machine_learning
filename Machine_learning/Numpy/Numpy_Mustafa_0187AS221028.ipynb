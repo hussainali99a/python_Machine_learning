{
 "cells": [
  {
   "cell_type": "markdown",
   "id": "c28f7195",
   "metadata": {},
   "source": [
    "# Numpy "
   ]
  },
  {
   "cell_type": "code",
   "execution_count": 7,
   "id": "0893044c",
   "metadata": {},
   "outputs": [],
   "source": [
    "import numpy as np"
   ]
  },
  {
   "cell_type": "code",
   "execution_count": 1,
   "id": "b20034e3",
   "metadata": {},
   "outputs": [],
   "source": [
    "a = [1,2,3,4,5,6,7,8,9,10]\n",
    "print(a)\n",
    "print(type(a))"
   ]
  },
  {
   "cell_type": "code",
   "execution_count": 2,
   "id": "c708d61a",
   "metadata": {},
   "outputs": [],
   "source": [
    "a = np.array([1,2,3,4,5,6,7,8,9,10]) #numpy array \n",
    "print(a)\n",
    "print(type(a))"
   ]
  },
  {
   "cell_type": "markdown",
   "id": "6768ee3b",
   "metadata": {},
   "source": [
    "# ndim function"
   ]
  },
  {
   "cell_type": "code",
   "execution_count": 21,
   "id": "27d65ada",
   "metadata": {},
   "outputs": [
    {
     "name": "stdout",
     "output_type": "stream",
     "text": [
      "1\n"
     ]
    }
   ],
   "source": [
    "#ndim :- to check dimension\n",
    "print(a.ndim)"
   ]
  },
  {
   "cell_type": "code",
   "execution_count": 31,
   "id": "0c7fa38a",
   "metadata": {},
   "outputs": [
    {
     "name": "stdout",
     "output_type": "stream",
     "text": [
      "[[1 2 3 4 5]\n",
      " [2 3 4 5 6]]\n",
      "dimension of array is: 2\n"
     ]
    }
   ],
   "source": [
    "#two dimension\n",
    "b_2d = np.array([[1,2,3,4,5],[2,3,4,5,6]])\n",
    "print(b_2d)\n",
    "print(\"dimension of array is:\",b_2d.ndim)"
   ]
  },
  {
   "cell_type": "code",
   "execution_count": 43,
   "id": "22ca845b",
   "metadata": {},
   "outputs": [
    {
     "name": "stdout",
     "output_type": "stream",
     "text": [
      "[[[1 2 3]\n",
      "  [4 5 6]\n",
      "  [7 8 5]]\n",
      "\n",
      " [[1 1 1]\n",
      "  [2 2 2]\n",
      "  [3 3 3]]]\n",
      "<class 'numpy.ndarray'>\n",
      "dimension of array is :  3\n"
     ]
    }
   ],
   "source": [
    "#three dimension\n",
    "c_3d = np.array([[[1,2,3],[4,5,6],[7,8,5]],[[1,1,1],[2,2,2],[3,3,3]]])\n",
    "print(c_3d)\n",
    "print(type(c_3d))\n",
    "print(\"dimension of array is : \",c_3d.ndim)"
   ]
  },
  {
   "cell_type": "code",
   "execution_count": 39,
   "id": "942072f6",
   "metadata": {},
   "outputs": [
    {
     "name": "stdout",
     "output_type": "stream",
     "text": [
      "[[1 2 3 4 5]\n",
      " [4 5 6 8 9]\n",
      " [7 8 5 7 9]\n",
      " [1 1 1 5 6]\n",
      " [2 2 2 4 5]]\n",
      "<class 'numpy.ndarray'>\n",
      "dimension of array is :  2\n"
     ]
    }
   ],
   "source": [
    "#5X5 matrix\n",
    "c_3d = np.array([[1,2,3,4,5],[4,5,6,8,9],[7,8,5,7,9],[1,1,1,5,6],[2,2,2,4,5]])\n",
    "print(c_3d)\n",
    "print(type(c_3d))\n",
    "print(\"dimension of array is : \",c_3d.ndim)"
   ]
  },
  {
   "cell_type": "code",
   "execution_count": 36,
   "id": "fbf4fea3",
   "metadata": {},
   "outputs": [
    {
     "name": "stdout",
     "output_type": "stream",
     "text": [
      "[[[1 2]\n",
      "  [4 5]]\n",
      "\n",
      " [[1 1]\n",
      "  [2 2]]\n",
      "\n",
      " [[1 1]\n",
      "  [2 2]]]\n",
      "<class 'numpy.ndarray'>\n",
      "dimension of array is :  3\n"
     ]
    }
   ],
   "source": [
    "c_3d = np.array([[[1,2],[4,5]],[[1,1],[2,2]],[[1,1],[2,2]]])\n",
    "print(c_3d)\n",
    "print(type(c_3d))\n",
    "print(\"dimension of array is : \",c_3d.ndim)"
   ]
  },
  {
   "cell_type": "markdown",
   "id": "5b60f54b",
   "metadata": {},
   "source": [
    "# size function"
   ]
  },
  {
   "cell_type": "code",
   "execution_count": 40,
   "id": "2580a64e",
   "metadata": {},
   "outputs": [
    {
     "name": "stdout",
     "output_type": "stream",
     "text": [
      "[[1 2 3 4 5]\n",
      " [2 3 4 5 6]]\n",
      "10\n"
     ]
    }
   ],
   "source": [
    "# size\n",
    "b_2d = np.array([[1,2,3,4,5],[2,3,4,5,6]])\n",
    "print(b_2d)\n",
    "print(b_2d.size)"
   ]
  },
  {
   "cell_type": "code",
   "execution_count": 44,
   "id": "3328c868",
   "metadata": {},
   "outputs": [
    {
     "name": "stdout",
     "output_type": "stream",
     "text": [
      "[[[1 2 3]\n",
      "  [4 5 6]\n",
      "  [7 8 5]]\n",
      "\n",
      " [[1 1 1]\n",
      "  [2 2 2]\n",
      "  [3 3 3]]]\n",
      "18\n"
     ]
    }
   ],
   "source": [
    "c_3d = np.array([[[1,2,3],[4,5,6],[7,8,5]],[[1,1,1],[2,2,2],[3,3,3]]])\n",
    "print(c_3d)\n",
    "print(c_3d.size)"
   ]
  },
  {
   "cell_type": "markdown",
   "id": "be3fb40b",
   "metadata": {},
   "source": [
    "# shape function"
   ]
  },
  {
   "cell_type": "code",
   "execution_count": 45,
   "id": "d0df5748",
   "metadata": {},
   "outputs": [
    {
     "name": "stdout",
     "output_type": "stream",
     "text": [
      "[[1 2 3 4 5]\n",
      " [2 3 4 5 6]]\n",
      "(2, 5)\n"
     ]
    }
   ],
   "source": [
    "#shape function \n",
    "#shows no. of rows and column\n",
    "b_2d = np.array([[1,2,3,4,5],[2,3,4,5,6]])\n",
    "print(b_2d)\n",
    "print(b_2d.shape)"
   ]
  },
  {
   "cell_type": "code",
   "execution_count": 46,
   "id": "52381b0e",
   "metadata": {},
   "outputs": [
    {
     "name": "stdout",
     "output_type": "stream",
     "text": [
      "[[1 2 3 4 5]\n",
      " [4 5 6 8 9]\n",
      " [7 8 5 7 9]\n",
      " [1 1 1 5 6]\n",
      " [2 2 2 4 5]]\n",
      "(5, 5)\n"
     ]
    }
   ],
   "source": [
    "c_3d = np.array([[1,2,3,4,5],[4,5,6,8,9],[7,8,5,7,9],[1,1,1,5,6],[2,2,2,4,5]])\n",
    "print(c_3d)\n",
    "print(c_3d.shape)"
   ]
  },
  {
   "cell_type": "code",
   "execution_count": 47,
   "id": "f5d61de5",
   "metadata": {},
   "outputs": [
    {
     "name": "stdout",
     "output_type": "stream",
     "text": [
      "[[1 2 3 4 5]\n",
      " [4 5 6 8 9]\n",
      " [7 8 5 7 9]\n",
      " [1 1 1 5 6]\n",
      " [2 2 2 4 5]]\n",
      "int32\n"
     ]
    }
   ],
   "source": [
    "#dtype\n",
    "#gives the type of data which type of data it is storing whether int , float , etc\n",
    "c_3d = np.array([[1,2,3,4,5],[4,5,6,8,9],[7,8,5,7,9],[1,1,1,5,6],[2,2,2,4,5]])\n",
    "print(c_3d)\n",
    "print(c_3d.dtype)"
   ]
  },
  {
   "cell_type": "code",
   "execution_count": 50,
   "id": "c1d29f50",
   "metadata": {},
   "outputs": [
    {
     "name": "stdout",
     "output_type": "stream",
     "text": [
      "[[1 1 1 1]\n",
      " [1 1 1 1]\n",
      " [1 1 1 1]\n",
      " [1 1 1 1]]\n",
      "[[0 0 0]\n",
      " [0 0 0]\n",
      " [0 0 0]]\n"
     ]
    }
   ],
   "source": [
    "c_array = np.array([[1,1,1,1],[1,1,1,1],[1,1,1,1],[1,1,1,1]])\n",
    "print(c_array)\n",
    "c_array_2 = np.array([[0,0,0],[0,0,0],[0,0,0]])\n",
    "print(c_array_2)"
   ]
  },
  {
   "cell_type": "markdown",
   "id": "b9f191b0",
   "metadata": {},
   "source": [
    "# ones and zeros"
   ]
  },
  {
   "cell_type": "code",
   "execution_count": 62,
   "id": "ff38ae34",
   "metadata": {},
   "outputs": [
    {
     "name": "stdout",
     "output_type": "stream",
     "text": [
      "[[1 1 1 1]\n",
      " [1 1 1 1]\n",
      " [1 1 1 1]\n",
      " [1 1 1 1]]\n",
      "[[0 0 0]\n",
      " [0 0 0]\n",
      " [0 0 0]]\n"
     ]
    }
   ],
   "source": [
    "#creating  matrix by ones and zeros function\n",
    "a= np.ones([4,4] , dtype = int)\n",
    "print(a)\n",
    "b = np.zeros([3,3],dtype = int)\n",
    "print(b)"
   ]
  },
  {
   "cell_type": "code",
   "execution_count": 65,
   "id": "5097b8ec",
   "metadata": {},
   "outputs": [
    {
     "name": "stdout",
     "output_type": "stream",
     "text": [
      "[['1' '1' '1' '1']\n",
      " ['1' '1' '1' '1']\n",
      " ['1' '1' '1' '1']\n",
      " ['1' '1' '1' '1']]\n",
      "[['' '' '']\n",
      " ['' '' '']\n",
      " ['' '' '']]\n"
     ]
    }
   ],
   "source": [
    "a= np.ones([4,4] , dtype = str)\n",
    "print(a)\n",
    "b = np.zeros([3,3],dtype = str) # blank matrix will occur\n",
    "print(b)"
   ]
  },
  {
   "cell_type": "code",
   "execution_count": 67,
   "id": "be0afcfe",
   "metadata": {},
   "outputs": [
    {
     "name": "stdout",
     "output_type": "stream",
     "text": [
      "[[ True  True  True  True]\n",
      " [ True  True  True  True]\n",
      " [ True  True  True  True]\n",
      " [ True  True  True  True]]\n",
      "[[False False False]\n",
      " [False False False]\n",
      " [False False False]]\n"
     ]
    }
   ],
   "source": [
    "a= np.ones([4,4] , dtype = bool)\n",
    "print(a)\n",
    "b = np.zeros([3,3],dtype = bool)\n",
    "print(b)"
   ]
  },
  {
   "cell_type": "markdown",
   "id": "30209819",
   "metadata": {},
   "source": [
    "# empty function"
   ]
  },
  {
   "cell_type": "code",
   "execution_count": 72,
   "id": "f895af77",
   "metadata": {},
   "outputs": [
    {
     "name": "stdout",
     "output_type": "stream",
     "text": [
      "[[1. 1. 1. 1.]\n",
      " [1. 1. 1. 1.]\n",
      " [1. 1. 1. 1.]\n",
      " [1. 1. 1. 1.]]\n"
     ]
    }
   ],
   "source": [
    "em_mx = np.empty((4,4)) # gives garbage value\n",
    "print(em_mx)"
   ]
  },
  {
   "cell_type": "markdown",
   "id": "7781374e",
   "metadata": {},
   "source": [
    "# arrange function"
   ]
  },
  {
   "cell_type": "code",
   "execution_count": 75,
   "id": "458895be",
   "metadata": {},
   "outputs": [
    {
     "name": "stdout",
     "output_type": "stream",
     "text": [
      "[ 0  1  2  3  4  5  6  7  8  9 10 11 12]\n"
     ]
    }
   ],
   "source": [
    "#syntax :- np.arange(start_value , end_value , step)\n",
    "ar_1d = np.arange(13)\n",
    "print(ar_1d)"
   ]
  },
  {
   "cell_type": "code",
   "execution_count": 78,
   "id": "9406e3b9",
   "metadata": {},
   "outputs": [
    {
     "name": "stdout",
     "output_type": "stream",
     "text": [
      "[ 1  2  3  4  5  6  7  8  9 10 11 12 13 14 15 16 17 18 19 20 21 22 23 24\n",
      " 25 26 27 28 29 30 31 32 33 34 35 36 37 38 39 40 41 42 43 44 45 46 47 48\n",
      " 49 50 51 52 53 54 55 56 57 58 59 60 61 62 63 64 65 66 67 68 69 70 71 72\n",
      " 73 74 75 76 77 78 79 80 81 82 83 84 85 86 87 88 89 90 91 92 93 94 95 96\n",
      " 97 98 99]\n"
     ]
    }
   ],
   "source": [
    "ar_1d = np.arange(1 , 100)\n",
    "print(ar_1d)"
   ]
  },
  {
   "cell_type": "code",
   "execution_count": 85,
   "id": "ae0d1088",
   "metadata": {},
   "outputs": [
    {
     "name": "stdout",
     "output_type": "stream",
     "text": [
      "[ 1  2  3  4  5  6  7  8  9 10 11 12 13 14 15 16 17 18 19 20 21 22 23 24\n",
      " 25 26 27 28 29 30 31 32 33 34 35 36 37 38 39 40 41 42 43 44 45 46 47 48\n",
      " 49 50 51 52 53 54 55 56 57 58 59 60 61 62 63 64 65 66 67 68 69 70 71 72\n",
      " 73 74 75 76 77 78 79 80 81 82 83 84 85 86 87 88 89 90 91 92 93 94 95 96\n",
      " 97 98 99]\n"
     ]
    }
   ],
   "source": [
    "ar_1d = np.arange(1 , 100 , 1)\n",
    "print(ar_1d)"
   ]
  },
  {
   "cell_type": "markdown",
   "id": "eeecb006",
   "metadata": {},
   "source": [
    "# linspace function"
   ]
  },
  {
   "cell_type": "code",
   "execution_count": 97,
   "id": "911d680d",
   "metadata": {},
   "outputs": [
    {
     "data": {
      "text/plain": [
       "array([1.        , 1.02040816, 1.04081633, 1.06122449, 1.08163265,\n",
       "       1.10204082, 1.12244898, 1.14285714, 1.16326531, 1.18367347,\n",
       "       1.20408163, 1.2244898 , 1.24489796, 1.26530612, 1.28571429,\n",
       "       1.30612245, 1.32653061, 1.34693878, 1.36734694, 1.3877551 ,\n",
       "       1.40816327, 1.42857143, 1.44897959, 1.46938776, 1.48979592,\n",
       "       1.51020408, 1.53061224, 1.55102041, 1.57142857, 1.59183673,\n",
       "       1.6122449 , 1.63265306, 1.65306122, 1.67346939, 1.69387755,\n",
       "       1.71428571, 1.73469388, 1.75510204, 1.7755102 , 1.79591837,\n",
       "       1.81632653, 1.83673469, 1.85714286, 1.87755102, 1.89795918,\n",
       "       1.91836735, 1.93877551, 1.95918367, 1.97959184, 2.        ])"
      ]
     },
     "execution_count": 97,
     "metadata": {},
     "output_type": "execute_result"
    }
   ],
   "source": [
    "#syntax :- np.linspace(start_value , end_value , np of value b/w start and end)\n",
    "np.linspace(1,2,50)"
   ]
  },
  {
   "cell_type": "code",
   "execution_count": 100,
   "id": "6a57e5ea",
   "metadata": {},
   "outputs": [
    {
     "data": {
      "text/plain": [
       "array([  1.,  12.,  23.,  34.,  45.,  56.,  67.,  78.,  89., 100.])"
      ]
     },
     "execution_count": 100,
     "metadata": {},
     "output_type": "execute_result"
    }
   ],
   "source": [
    "np.linspace(1,100,10) #difference is same b/w values"
   ]
  },
  {
   "cell_type": "code",
   "execution_count": 102,
   "id": "a28eace0",
   "metadata": {},
   "outputs": [
    {
     "name": "stdout",
     "output_type": "stream",
     "text": [
      "[ 1.     1.375  1.75   2.125  2.5    2.875  3.25   3.625  4.     4.375\n",
      "  4.75   5.125  5.5    5.875  6.25   6.625  7.     7.375  7.75   8.125\n",
      "  8.5    8.875  9.25   9.625 10.   ]\n"
     ]
    }
   ],
   "source": [
    "s = np.linspace(1,10,25)\n",
    "print(s)"
   ]
  },
  {
   "cell_type": "markdown",
   "id": "010f6bfd",
   "metadata": {},
   "source": [
    "# resahpe function"
   ]
  },
  {
   "cell_type": "code",
   "execution_count": 107,
   "id": "67011bd1",
   "metadata": {},
   "outputs": [
    {
     "name": "stdout",
     "output_type": "stream",
     "text": [
      "one dimension array by linspace\n",
      "[ 1.     1.375  1.75   2.125  2.5    2.875  3.25   3.625  4.     4.375\n",
      "  4.75   5.125  5.5    5.875  6.25   6.625  7.     7.375  7.75   8.125\n",
      "  8.5    8.875  9.25   9.625 10.   ]\n",
      "[[ 1.     1.375  1.75   2.125  2.5  ]\n",
      " [ 2.875  3.25   3.625  4.     4.375]\n",
      " [ 4.75   5.125  5.5    5.875  6.25 ]\n",
      " [ 6.625  7.     7.375  7.75   8.125]\n",
      " [ 8.5    8.875  9.25   9.625 10.   ]]\n"
     ]
    }
   ],
   "source": [
    "print(\"one dimension array by linspace\")\n",
    "s = np.linspace(1,10,25)\n",
    "print(s)\n",
    "d = s.reshape(5,5)\n",
    "print(d)\n"
   ]
  },
  {
   "cell_type": "code",
   "execution_count": 119,
   "id": "24206660",
   "metadata": {},
   "outputs": [
    {
     "name": "stdout",
     "output_type": "stream",
     "text": [
      "by linspace function: [[[ 1  2]\n",
      "  [ 3  4]]\n",
      "\n",
      " [[ 5  6]\n",
      "  [ 7  8]]\n",
      "\n",
      " [[ 9 10]\n",
      "  [11 12]]]\n",
      "[ 1  2  3  4  5  6  7  8  9 10 11 12]\n",
      "by arange function:[ 1  2  3  4  5  6  7  8  9 10 11 12]\n",
      "[[[ 1  2]\n",
      "  [ 3  4]]\n",
      "\n",
      " [[ 5  6]\n",
      "  [ 7  8]]\n",
      "\n",
      " [[ 9 10]\n",
      "  [11 12]]]\n"
     ]
    }
   ],
   "source": [
    "print(\"by linspace function:\")\n",
    "\n",
    "arr = np.linspace(1,12,12 , dtype = int)\n",
    "arr2 = arr.reshape(3,2,2)\n",
    "print(arr2)\n",
    "print(arr)\n",
    "print(\"by arange function:\")\n",
    "array_1 = np.arange(1,13,1)\n",
    "print(array_1)\n",
    "array_2 = array_1.reshape(3,2,2)\n",
    "print(array_2)"
   ]
  },
  {
   "cell_type": "markdown",
   "id": "79990747",
   "metadata": {},
   "source": [
    "# ravel function"
   ]
  },
  {
   "cell_type": "code",
   "execution_count": 120,
   "id": "cf8f3789",
   "metadata": {},
   "outputs": [
    {
     "data": {
      "text/plain": [
       "array([1, 2, 3, 4, 5, 6, 7, 8, 5, 1, 1, 1, 2, 2, 2, 3, 3, 3])"
      ]
     },
     "execution_count": 120,
     "metadata": {},
     "output_type": "execute_result"
    }
   ],
   "source": [
    "#convert multi dimensional to one dimensional\n",
    "c_3d = np.array([[[1,2,3],[4,5,6],[7,8,5]],[[1,1,1],[2,2,2],[3,3,3]]])\n",
    "c_3d.ravel()"
   ]
  },
  {
   "cell_type": "markdown",
   "id": "7b38f5c5",
   "metadata": {},
   "source": [
    "# transpose function"
   ]
  },
  {
   "cell_type": "code",
   "execution_count": 125,
   "id": "8d3daeca",
   "metadata": {},
   "outputs": [
    {
     "data": {
      "text/plain": [
       "array([[1, 4, 7, 1, 2],\n",
       "       [2, 5, 8, 1, 2],\n",
       "       [3, 6, 5, 1, 2],\n",
       "       [4, 8, 7, 5, 4],\n",
       "       [5, 9, 9, 6, 5]])"
      ]
     },
     "execution_count": 125,
     "metadata": {},
     "output_type": "execute_result"
    }
   ],
   "source": [
    "#transpose() or T() row to column or column to row\n",
    "c_3d = np.array([[1,2,3,4,5],[4,5,6,8,9],[7,8,5,7,9],[1,1,1,5,6],[2,2,2,4,5]])\n",
    "# c_3d.transpose()\n",
    "c_3d.T"
   ]
  },
  {
   "cell_type": "code",
   "execution_count": 133,
   "id": "97cc7236",
   "metadata": {},
   "outputs": [
    {
     "name": "stdout",
     "output_type": "stream",
     "text": [
      "[[1 2 3]\n",
      " [4 5 6]\n",
      " [7 8 9]]\n",
      "[[1 2 3]\n",
      " [4 5 6]\n",
      " [7 8 9]]\n"
     ]
    }
   ],
   "source": [
    "array1 = np.arange(1,10).reshape(3,3)\n",
    "array2 = np.arange(1,10).reshape(3,3)\n",
    "print(array1)\n",
    "print(array2)"
   ]
  },
  {
   "cell_type": "markdown",
   "id": "a192b1fa",
   "metadata": {},
   "source": [
    "# mathematical operation using Numpy"
   ]
  },
  {
   "cell_type": "code",
   "execution_count": 134,
   "id": "29aa3dac",
   "metadata": {},
   "outputs": [
    {
     "name": "stdout",
     "output_type": "stream",
     "text": [
      "[[ 2  4  6]\n",
      " [ 8 10 12]\n",
      " [14 16 18]]\n"
     ]
    }
   ],
   "source": [
    "print(array1+array2)"
   ]
  },
  {
   "cell_type": "code",
   "execution_count": 135,
   "id": "bb614a5a",
   "metadata": {},
   "outputs": [
    {
     "name": "stdout",
     "output_type": "stream",
     "text": [
      "[[0 0 0]\n",
      " [0 0 0]\n",
      " [0 0 0]]\n"
     ]
    }
   ],
   "source": [
    "print(array1-array2)"
   ]
  },
  {
   "cell_type": "code",
   "execution_count": 136,
   "id": "bdfe5578",
   "metadata": {},
   "outputs": [
    {
     "name": "stdout",
     "output_type": "stream",
     "text": [
      "[[ 1  4  9]\n",
      " [16 25 36]\n",
      " [49 64 81]]\n"
     ]
    }
   ],
   "source": [
    "print(array1*array2) #this is not actual matrix multiplication(elemenmt to element)"
   ]
  },
  {
   "cell_type": "code",
   "execution_count": 139,
   "id": "25ab911e",
   "metadata": {},
   "outputs": [
    {
     "name": "stdout",
     "output_type": "stream",
     "text": [
      "[[ 30  36  42]\n",
      " [ 66  81  96]\n",
      " [102 126 150]]\n"
     ]
    }
   ],
   "source": [
    "print(array1@array2)"
   ]
  },
  {
   "cell_type": "code",
   "execution_count": 141,
   "id": "4fb5a177",
   "metadata": {},
   "outputs": [
    {
     "name": "stdout",
     "output_type": "stream",
     "text": [
      "[[ 30  36  42]\n",
      " [ 66  81  96]\n",
      " [102 126 150]]\n"
     ]
    }
   ],
   "source": [
    "print(array1.dot(array2))"
   ]
  },
  {
   "cell_type": "code",
   "execution_count": 142,
   "id": "fd6b8c8b",
   "metadata": {},
   "outputs": [
    {
     "data": {
      "text/plain": [
       "array([[ 2,  4,  6],\n",
       "       [ 8, 10, 12],\n",
       "       [14, 16, 18]])"
      ]
     },
     "execution_count": 142,
     "metadata": {},
     "output_type": "execute_result"
    }
   ],
   "source": [
    "np.add(array1,array2)"
   ]
  },
  {
   "cell_type": "code",
   "execution_count": 145,
   "id": "bd5b13b5",
   "metadata": {},
   "outputs": [
    {
     "data": {
      "text/plain": [
       "array([[1., 1., 1.],\n",
       "       [1., 1., 1.],\n",
       "       [1., 1., 1.]])"
      ]
     },
     "execution_count": 145,
     "metadata": {},
     "output_type": "execute_result"
    }
   ],
   "source": [
    "np.divide(array1,array2)"
   ]
  },
  {
   "cell_type": "code",
   "execution_count": 147,
   "id": "c90cd3dd",
   "metadata": {},
   "outputs": [
    {
     "data": {
      "text/plain": [
       "array([[0, 0, 0],\n",
       "       [0, 0, 0],\n",
       "       [0, 0, 0]])"
      ]
     },
     "execution_count": 147,
     "metadata": {},
     "output_type": "execute_result"
    }
   ],
   "source": [
    "np.subtract(array1,array2)"
   ]
  },
  {
   "cell_type": "markdown",
   "id": "c965bb8e",
   "metadata": {},
   "source": [
    "# Maximum and Minimum"
   ]
  },
  {
   "cell_type": "code",
   "execution_count": 3,
   "id": "7d56da95",
   "metadata": {},
   "outputs": [
    {
     "name": "stdout",
     "output_type": "stream",
     "text": [
      "[[1 2 3]\n",
      " [4 5 6]\n",
      " [7 8 9]]\n"
     ]
    }
   ],
   "source": [
    "arr1 = np.arange(1,10).reshape(3,3)\n",
    "print(arr1)"
   ]
  },
  {
   "cell_type": "code",
   "execution_count": 8,
   "id": "40226fe0",
   "metadata": {},
   "outputs": [
    {
     "name": "stdout",
     "output_type": "stream",
     "text": [
      "8\n",
      "9\n"
     ]
    }
   ],
   "source": [
    "print(arr1.argmax())\n",
    "print(arr1.max())\n"
   ]
  },
  {
   "cell_type": "code",
   "execution_count": 6,
   "id": "12e99eed",
   "metadata": {},
   "outputs": [
    {
     "data": {
      "text/plain": [
       "array([7, 8, 9])"
      ]
     },
     "execution_count": 6,
     "metadata": {},
     "output_type": "execute_result"
    }
   ],
   "source": [
    "arr1.max(axis=0)"
   ]
  },
  {
   "cell_type": "code",
   "execution_count": 7,
   "id": "d57e40c5",
   "metadata": {},
   "outputs": [
    {
     "data": {
      "text/plain": [
       "array([3, 6, 9])"
      ]
     },
     "execution_count": 7,
     "metadata": {},
     "output_type": "execute_result"
    }
   ],
   "source": [
    "arr1.max(axis=1)"
   ]
  },
  {
   "cell_type": "code",
   "execution_count": 9,
   "id": "1bd213b5",
   "metadata": {},
   "outputs": [
    {
     "data": {
      "text/plain": [
       "array([1, 4, 7])"
      ]
     },
     "execution_count": 9,
     "metadata": {},
     "output_type": "execute_result"
    }
   ],
   "source": [
    "arr1.min(axis=1)"
   ]
  },
  {
   "cell_type": "code",
   "execution_count": 10,
   "id": "2333eb64",
   "metadata": {},
   "outputs": [
    {
     "data": {
      "text/plain": [
       "array([1, 2, 3])"
      ]
     },
     "execution_count": 10,
     "metadata": {},
     "output_type": "execute_result"
    }
   ],
   "source": [
    "arr1.min(axis=0)"
   ]
  },
  {
   "cell_type": "code",
   "execution_count": 11,
   "id": "6f8f3bc0",
   "metadata": {},
   "outputs": [
    {
     "data": {
      "text/plain": [
       "45"
      ]
     },
     "execution_count": 11,
     "metadata": {},
     "output_type": "execute_result"
    }
   ],
   "source": [
    "np.sum(arr1)"
   ]
  },
  {
   "cell_type": "code",
   "execution_count": 12,
   "id": "54ec3e9a",
   "metadata": {},
   "outputs": [
    {
     "data": {
      "text/plain": [
       "array([12, 15, 18])"
      ]
     },
     "execution_count": 12,
     "metadata": {},
     "output_type": "execute_result"
    }
   ],
   "source": [
    "np.sum(arr1,axis=0) #column wise"
   ]
  },
  {
   "cell_type": "code",
   "execution_count": 13,
   "id": "63033daf",
   "metadata": {},
   "outputs": [
    {
     "data": {
      "text/plain": [
       "array([ 6, 15, 24])"
      ]
     },
     "execution_count": 13,
     "metadata": {},
     "output_type": "execute_result"
    }
   ],
   "source": [
    "np.sum(arr1,axis=1) #row wise"
   ]
  },
  {
   "cell_type": "code",
   "execution_count": 14,
   "id": "3326b7ae",
   "metadata": {},
   "outputs": [
    {
     "data": {
      "text/plain": [
       "5.0"
      ]
     },
     "execution_count": 14,
     "metadata": {},
     "output_type": "execute_result"
    }
   ],
   "source": [
    "np.mean(arr1) #mean of the array"
   ]
  },
  {
   "cell_type": "code",
   "execution_count": 16,
   "id": "54d49377",
   "metadata": {},
   "outputs": [
    {
     "data": {
      "text/plain": [
       "5.0"
      ]
     },
     "execution_count": 16,
     "metadata": {},
     "output_type": "execute_result"
    }
   ],
   "source": [
    "np.median(arr1) #median of the array"
   ]
  },
  {
   "cell_type": "code",
   "execution_count": 17,
   "id": "06a4115c",
   "metadata": {},
   "outputs": [
    {
     "data": {
      "text/plain": [
       "array([[1.        , 1.41421356, 1.73205081],\n",
       "       [2.        , 2.23606798, 2.44948974],\n",
       "       [2.64575131, 2.82842712, 3.        ]])"
      ]
     },
     "execution_count": 17,
     "metadata": {},
     "output_type": "execute_result"
    }
   ],
   "source": [
    "np.sqrt(arr1) #square root"
   ]
  },
  {
   "cell_type": "code",
   "execution_count": 18,
   "id": "3e2aafad",
   "metadata": {},
   "outputs": [
    {
     "data": {
      "text/plain": [
       "2.581988897471611"
      ]
     },
     "execution_count": 18,
     "metadata": {},
     "output_type": "execute_result"
    }
   ],
   "source": [
    "#standard deviation\n",
    "np.std(arr1)"
   ]
  },
  {
   "cell_type": "code",
   "execution_count": 19,
   "id": "8c70fbef",
   "metadata": {},
   "outputs": [
    {
     "data": {
      "text/plain": [
       "array([[2.71828183e+00, 7.38905610e+00, 2.00855369e+01],\n",
       "       [5.45981500e+01, 1.48413159e+02, 4.03428793e+02],\n",
       "       [1.09663316e+03, 2.98095799e+03, 8.10308393e+03]])"
      ]
     },
     "execution_count": 19,
     "metadata": {},
     "output_type": "execute_result"
    }
   ],
   "source": [
    "np.exp(arr1) #exponent values"
   ]
  },
  {
   "cell_type": "code",
   "execution_count": 21,
   "id": "0f955c2a",
   "metadata": {},
   "outputs": [
    {
     "data": {
      "text/plain": [
       "array([[0.        , 0.69314718, 1.09861229],\n",
       "       [1.38629436, 1.60943791, 1.79175947],\n",
       "       [1.94591015, 2.07944154, 2.19722458]])"
      ]
     },
     "execution_count": 21,
     "metadata": {},
     "output_type": "execute_result"
    }
   ],
   "source": [
    "np.log(arr1) #log base e of every element"
   ]
  },
  {
   "cell_type": "code",
   "execution_count": 65,
   "id": "e50045d1",
   "metadata": {},
   "outputs": [
    {
     "data": {
      "text/plain": [
       "array([[0.        , 0.30103   , 0.47712125, 0.60205999],\n",
       "       [0.95424251, 1.        , 1.04139269, 1.07918125],\n",
       "       [1.23044892, 1.25527251, 1.2787536 , 1.30103   ],\n",
       "       [1.39794001, 1.41497335, 1.43136376, 1.44715803],\n",
       "       [1.51851394, 1.53147892, 1.54406804, 1.5563025 ]])"
      ]
     },
     "execution_count": 65,
     "metadata": {},
     "output_type": "execute_result"
    }
   ],
   "source": [
    "np.log10(arr1) # log base 10 of every element "
   ]
  },
  {
   "cell_type": "markdown",
   "id": "e1e1a743",
   "metadata": {},
   "source": [
    "# Slicing"
   ]
  },
  {
   "cell_type": "code",
   "execution_count": 26,
   "id": "3f622aa1",
   "metadata": {},
   "outputs": [
    {
     "name": "stdout",
     "output_type": "stream",
     "text": [
      "[[  1   2   3   4   5   6   7   8   9  10]\n",
      " [ 11  12  13  14  15  16  17  18  19  20]\n",
      " [ 21  22  23  24  25  26  27  28  29  30]\n",
      " [ 31  32  33  34  35  36  37  38  39  40]\n",
      " [ 41  42  43  44  45  46  47  48  49  50]\n",
      " [ 51  52  53  54  55  56  57  58  59  60]\n",
      " [ 61  62  63  64  65  66  67  68  69  70]\n",
      " [ 71  72  73  74  75  76  77  78  79  80]\n",
      " [ 81  82  83  84  85  86  87  88  89  90]\n",
      " [ 91  92  93  94  95  96  97  98  99 100]]\n",
      "2\n"
     ]
    }
   ],
   "source": [
    "array = np.arange(1,101).reshape(10,10)\n",
    "print(array)"
   ]
  },
  {
   "cell_type": "code",
   "execution_count": 30,
   "id": "823a809a",
   "metadata": {},
   "outputs": [
    {
     "data": {
      "text/plain": [
       "1"
      ]
     },
     "execution_count": 30,
     "metadata": {},
     "output_type": "execute_result"
    }
   ],
   "source": [
    "array[0,0] #array[row,column]"
   ]
  },
  {
   "cell_type": "code",
   "execution_count": 29,
   "id": "82d45129",
   "metadata": {},
   "outputs": [
    {
     "data": {
      "text/plain": [
       "46"
      ]
     },
     "execution_count": 29,
     "metadata": {},
     "output_type": "execute_result"
    }
   ],
   "source": [
    "array[4,5]"
   ]
  },
  {
   "cell_type": "code",
   "execution_count": 31,
   "id": "bfc925be",
   "metadata": {},
   "outputs": [
    {
     "data": {
      "text/plain": [
       "array([[  1,   2,   3,   4,   5,   6,   7,   8,   9,  10],\n",
       "       [ 11,  12,  13,  14,  15,  16,  17,  18,  19,  20],\n",
       "       [ 21,  22,  23,  24,  25,  26,  27,  28,  29,  30],\n",
       "       [ 31,  32,  33,  34,  35,  36,  37,  38,  39,  40],\n",
       "       [ 41,  42,  43,  44,  45,  46,  47,  48,  49,  50],\n",
       "       [ 51,  52,  53,  54,  55,  56,  57,  58,  59,  60],\n",
       "       [ 61,  62,  63,  64,  65,  66,  67,  68,  69,  70],\n",
       "       [ 71,  72,  73,  74,  75,  76,  77,  78,  79,  80],\n",
       "       [ 81,  82,  83,  84,  85,  86,  87,  88,  89,  90],\n",
       "       [ 91,  92,  93,  94,  95,  96,  97,  98,  99, 100]])"
      ]
     },
     "execution_count": 31,
     "metadata": {},
     "output_type": "execute_result"
    }
   ],
   "source": [
    "array[:] #all rows all column"
   ]
  },
  {
   "cell_type": "code",
   "execution_count": 35,
   "id": "57bb68fd",
   "metadata": {},
   "outputs": [
    {
     "data": {
      "text/plain": [
       "array([[ 3,  4,  5],\n",
       "       [13, 14, 15],\n",
       "       [23, 24, 25],\n",
       "       [33, 34, 35],\n",
       "       [43, 44, 45],\n",
       "       [53, 54, 55],\n",
       "       [63, 64, 65],\n",
       "       [73, 74, 75],\n",
       "       [83, 84, 85],\n",
       "       [93, 94, 95]])"
      ]
     },
     "execution_count": 35,
     "metadata": {},
     "output_type": "execute_result"
    }
   ],
   "source": [
    "array[:,2:5] #slicing of array"
   ]
  },
  {
   "cell_type": "code",
   "execution_count": 37,
   "id": "72e0f778",
   "metadata": {},
   "outputs": [
    {
     "data": {
      "text/plain": [
       "array([[23, 24, 25, 26],\n",
       "       [33, 34, 35, 36],\n",
       "       [43, 44, 45, 46]])"
      ]
     },
     "execution_count": 37,
     "metadata": {},
     "output_type": "execute_result"
    }
   ],
   "source": [
    "array[2:5,2:6]"
   ]
  },
  {
   "cell_type": "code",
   "execution_count": 39,
   "id": "cbacbede",
   "metadata": {},
   "outputs": [
    {
     "data": {
      "text/plain": [
       "array([[ 7,  8],\n",
       "       [17, 18],\n",
       "       [27, 28],\n",
       "       [37, 38],\n",
       "       [47, 48],\n",
       "       [57, 58],\n",
       "       [67, 68],\n",
       "       [77, 78],\n",
       "       [87, 88],\n",
       "       [97, 98]])"
      ]
     },
     "execution_count": 39,
     "metadata": {},
     "output_type": "execute_result"
    }
   ],
   "source": [
    "array[:,6:8]"
   ]
  },
  {
   "cell_type": "code",
   "execution_count": 42,
   "id": "a3ece091",
   "metadata": {},
   "outputs": [
    {
     "data": {
      "text/plain": [
       "array([[11, 12, 13, 14, 15, 16, 17, 18, 19, 20],\n",
       "       [21, 22, 23, 24, 25, 26, 27, 28, 29, 30]])"
      ]
     },
     "execution_count": 42,
     "metadata": {},
     "output_type": "execute_result"
    }
   ],
   "source": [
    "array[1:3,]"
   ]
  },
  {
   "cell_type": "code",
   "execution_count": 45,
   "id": "0d5d4c6c",
   "metadata": {},
   "outputs": [
    {
     "data": {
      "text/plain": [
       "array([[61, 62, 63, 64, 65, 66, 67, 68, 69, 70],\n",
       "       [71, 72, 73, 74, 75, 76, 77, 78, 79, 80]])"
      ]
     },
     "execution_count": 45,
     "metadata": {},
     "output_type": "execute_result"
    }
   ],
   "source": [
    "array[6:8,]"
   ]
  },
  {
   "cell_type": "code",
   "execution_count": 46,
   "id": "792878d1",
   "metadata": {},
   "outputs": [
    {
     "name": "stdout",
     "output_type": "stream",
     "text": [
      "[[  1   2   3   4   5   6   7   8   9  10]\n",
      " [ 11  12  13  14  15  16  17  18  19  20]\n",
      " [ 21  22  23  24  25  26  27  28  29  30]\n",
      " [ 31  32  33  34  35  36  37  38  39  40]\n",
      " [ 41  42  43  44  45  46  47  48  49  50]\n",
      " [ 51  52  53  54  55  56  57  58  59  60]\n",
      " [ 61  62  63  64  65  66  67  68  69  70]\n",
      " [ 71  72  73  74  75  76  77  78  79  80]\n",
      " [ 81  82  83  84  85  86  87  88  89  90]\n",
      " [ 91  92  93  94  95  96  97  98  99 100]]\n"
     ]
    }
   ],
   "source": [
    "print(array)"
   ]
  },
  {
   "cell_type": "code",
   "execution_count": 48,
   "id": "963c408b",
   "metadata": {},
   "outputs": [
    {
     "data": {
      "text/plain": [
       "array([[23, 24],\n",
       "       [33, 34]])"
      ]
     },
     "execution_count": 48,
     "metadata": {},
     "output_type": "execute_result"
    }
   ],
   "source": [
    "array[2:4,2:4]"
   ]
  },
  {
   "cell_type": "code",
   "execution_count": 51,
   "id": "0ce2f00b",
   "metadata": {},
   "outputs": [
    {
     "data": {
      "text/plain": [
       "array([[55, 56, 57],\n",
       "       [65, 66, 67],\n",
       "       [75, 76, 77]])"
      ]
     },
     "execution_count": 51,
     "metadata": {},
     "output_type": "execute_result"
    }
   ],
   "source": [
    "array[5:8,4:7]"
   ]
  },
  {
   "cell_type": "code",
   "execution_count": 52,
   "id": "55712130",
   "metadata": {},
   "outputs": [
    {
     "name": "stdout",
     "output_type": "stream",
     "text": [
      "[[ 1  2  3  4  5  6  7  8]\n",
      " [ 9 10 11 12 13 14 15 16]\n",
      " [17 18 19 20 21 22 23 24]\n",
      " [25 26 27 28 29 30 31 32]\n",
      " [33 34 35 36 37 38 39 40]]\n"
     ]
    }
   ],
   "source": [
    "array2 = np.arange(1,41).reshape(5,8)\n",
    "print(array2)"
   ]
  },
  {
   "cell_type": "code",
   "execution_count": 64,
   "id": "479ee5a7",
   "metadata": {},
   "outputs": [
    {
     "name": "stdout",
     "output_type": "stream",
     "text": [
      "[[ 1  2  3  4]\n",
      " [ 9 10 11 12]\n",
      " [17 18 19 20]\n",
      " [25 26 27 28]\n",
      " [33 34 35 36]]\n",
      "\n",
      "\n",
      "[[ 5  6  7  8]\n",
      " [13 14 15 16]\n",
      " [21 22 23 24]\n",
      " [29 30 31 32]\n",
      " [37 38 39 40]]\n",
      "\n",
      "\n",
      "[[ 6  8 10 12]\n",
      " [22 24 26 28]\n",
      " [38 40 42 44]\n",
      " [54 56 58 60]\n",
      " [70 72 74 76]]\n"
     ]
    }
   ],
   "source": [
    "arr1 = array2[:,0:4]\n",
    "print(arr1)\n",
    "print(\"\\n\")\n",
    "arr2 = array2[:,4:8]\n",
    "print(arr2)\n",
    "print(\"\\n\")\n",
    "print(np.add(arr1,arr2))\n",
    "# print(arr1+arr2)"
   ]
  },
  {
   "cell_type": "code",
   "execution_count": 68,
   "id": "564497aa",
   "metadata": {},
   "outputs": [
    {
     "data": {
      "text/plain": [
       "36"
      ]
     },
     "execution_count": 68,
     "metadata": {},
     "output_type": "execute_result"
    }
   ],
   "source": [
    "arr1.max()"
   ]
  },
  {
   "cell_type": "code",
   "execution_count": 69,
   "id": "b58f5dca",
   "metadata": {},
   "outputs": [
    {
     "data": {
      "text/plain": [
       "40"
      ]
     },
     "execution_count": 69,
     "metadata": {},
     "output_type": "execute_result"
    }
   ],
   "source": [
    "arr2.max()"
   ]
  },
  {
   "cell_type": "code",
   "execution_count": 70,
   "id": "539a8caf",
   "metadata": {},
   "outputs": [
    {
     "data": {
      "text/plain": [
       "array([ 85,  90,  95, 100])"
      ]
     },
     "execution_count": 70,
     "metadata": {},
     "output_type": "execute_result"
    }
   ],
   "source": [
    "np.sum(arr1,axis = 0)"
   ]
  },
  {
   "cell_type": "code",
   "execution_count": 71,
   "id": "630e0e0e",
   "metadata": {},
   "outputs": [
    {
     "data": {
      "text/plain": [
       "array([105, 110, 115, 120])"
      ]
     },
     "execution_count": 71,
     "metadata": {},
     "output_type": "execute_result"
    }
   ],
   "source": [
    "np.sum(arr2,axis=0)"
   ]
  },
  {
   "cell_type": "code",
   "execution_count": 72,
   "id": "abea0155",
   "metadata": {},
   "outputs": [
    {
     "data": {
      "text/plain": [
       "array([ 10,  42,  74, 106, 138])"
      ]
     },
     "execution_count": 72,
     "metadata": {},
     "output_type": "execute_result"
    }
   ],
   "source": [
    "np.sum(arr1,axis = 1)"
   ]
  },
  {
   "cell_type": "code",
   "execution_count": 73,
   "id": "df941d3a",
   "metadata": {},
   "outputs": [
    {
     "data": {
      "text/plain": [
       "array([ 26,  58,  90, 122, 154])"
      ]
     },
     "execution_count": 73,
     "metadata": {},
     "output_type": "execute_result"
    }
   ],
   "source": [
    "np.sum(arr2,axis = 1)"
   ]
  },
  {
   "cell_type": "markdown",
   "id": "1051db2b",
   "metadata": {},
   "source": [
    "# Random()"
   ]
  },
  {
   "cell_type": "code",
   "execution_count": 81,
   "id": "8c449195",
   "metadata": {},
   "outputs": [
    {
     "data": {
      "text/plain": [
       "array([0.25602605, 0.04804745, 0.33773901, 0.30840001, 0.15226558,\n",
       "       0.07854504, 0.36166333, 0.94278882, 0.02820411, 0.94390458,\n",
       "       0.71468708, 0.44891594, 0.21708281, 0.8506968 , 0.84050398,\n",
       "       0.77025273, 0.51589955, 0.43733056, 0.41031781, 0.54057292])"
      ]
     },
     "execution_count": 81,
     "metadata": {},
     "output_type": "execute_result"
    }
   ],
   "source": [
    "import random\n",
    "np.random.random(20)"
   ]
  },
  {
   "cell_type": "code",
   "execution_count": 83,
   "id": "22ba1248",
   "metadata": {},
   "outputs": [
    {
     "data": {
      "text/plain": [
       "array([[0.09986492, 0.48403801, 0.31767561],\n",
       "       [0.38962519, 0.24720741, 0.29133943],\n",
       "       [0.49075131, 0.63221939, 0.05552892]])"
      ]
     },
     "execution_count": 83,
     "metadata": {},
     "output_type": "execute_result"
    }
   ],
   "source": [
    "np.random.random((3,3))"
   ]
  },
  {
   "cell_type": "markdown",
   "id": "ef08648e",
   "metadata": {},
   "source": [
    "# Randit()"
   ]
  },
  {
   "cell_type": "code",
   "execution_count": 127,
   "id": "e9787ae9",
   "metadata": {},
   "outputs": [
    {
     "data": {
      "text/plain": [
       "934"
      ]
     },
     "execution_count": 127,
     "metadata": {},
     "output_type": "execute_result"
    }
   ],
   "source": [
    "np.random.randint(1000) # generating random value between 0 to 100"
   ]
  },
  {
   "cell_type": "code",
   "execution_count": 134,
   "id": "ac0e48ce",
   "metadata": {},
   "outputs": [
    {
     "data": {
      "text/plain": [
       "23"
      ]
     },
     "execution_count": 134,
     "metadata": {},
     "output_type": "execute_result"
    }
   ],
   "source": [
    "np.random.randint(20,25)"
   ]
  },
  {
   "cell_type": "code",
   "execution_count": 135,
   "id": "7465ba04",
   "metadata": {},
   "outputs": [
    {
     "data": {
      "text/plain": [
       "array([[20, 24, 24],\n",
       "       [22, 22, 23],\n",
       "       [22, 20, 23]])"
      ]
     },
     "execution_count": 135,
     "metadata": {},
     "output_type": "execute_result"
    }
   ],
   "source": [
    "np.random.randint(20,25,(3,3))"
   ]
  },
  {
   "cell_type": "code",
   "execution_count": 136,
   "id": "6a71b7a8",
   "metadata": {},
   "outputs": [
    {
     "data": {
      "text/plain": [
       "array([22, 24, 22])"
      ]
     },
     "execution_count": 136,
     "metadata": {},
     "output_type": "execute_result"
    }
   ],
   "source": [
    "np.random.randint(20,25,3)"
   ]
  },
  {
   "cell_type": "code",
   "execution_count": 137,
   "id": "5ef8a476",
   "metadata": {},
   "outputs": [
    {
     "data": {
      "text/plain": [
       "array([[21, 21, 20, 23],\n",
       "       [22, 21, 24, 22],\n",
       "       [24, 20, 23, 23],\n",
       "       [22, 22, 20, 24]])"
      ]
     },
     "execution_count": 137,
     "metadata": {},
     "output_type": "execute_result"
    }
   ],
   "source": [
    "np.random.randint(20,25,(4,4)) #one matrix of 4X4"
   ]
  },
  {
   "cell_type": "code",
   "execution_count": 138,
   "id": "a01052d0",
   "metadata": {},
   "outputs": [
    {
     "data": {
      "text/plain": [
       "array([[[23, 22, 23, 21, 23],\n",
       "        [22, 23, 20, 21, 24],\n",
       "        [22, 24, 23, 24, 23],\n",
       "        [21, 24, 24, 22, 23],\n",
       "        [24, 21, 23, 22, 24]],\n",
       "\n",
       "       [[20, 24, 24, 20, 21],\n",
       "        [24, 20, 23, 23, 20],\n",
       "        [20, 20, 23, 20, 24],\n",
       "        [24, 22, 20, 24, 20],\n",
       "        [20, 24, 24, 24, 22]]])"
      ]
     },
     "execution_count": 138,
     "metadata": {},
     "output_type": "execute_result"
    }
   ],
   "source": [
    "np.random.randint(20,25,(2,5,5)) #two matrix of 5X5"
   ]
  },
  {
   "cell_type": "markdown",
   "id": "391b3a16",
   "metadata": {},
   "source": [
    "# Choice()"
   ]
  },
  {
   "cell_type": "code",
   "execution_count": 165,
   "id": "b880cd94",
   "metadata": {},
   "outputs": [
    {
     "data": {
      "text/plain": [
       "5"
      ]
     },
     "execution_count": 165,
     "metadata": {},
     "output_type": "execute_result"
    }
   ],
   "source": [
    "p = [1,2,3,4,5,6,7,8,9]\n",
    "np.random.choice(p) #select from specific given list "
   ]
  },
  {
   "cell_type": "code",
   "execution_count": 168,
   "id": "b0363d9c",
   "metadata": {},
   "outputs": [
    {
     "data": {
      "text/plain": [
       "array([4, 5, 6, 7, 4])"
      ]
     },
     "execution_count": 168,
     "metadata": {},
     "output_type": "execute_result"
    }
   ],
   "source": [
    "p = [1,2,3,4,5,6,7,8,9]\n",
    "np.random.choice(p,5) "
   ]
  },
  {
   "cell_type": "markdown",
   "id": "398963f5",
   "metadata": {},
   "source": [
    "# Permutation"
   ]
  },
  {
   "cell_type": "code",
   "execution_count": 185,
   "id": "78896aa1",
   "metadata": {},
   "outputs": [
    {
     "data": {
      "text/plain": [
       "array([2, 3, 1])"
      ]
     },
     "execution_count": 185,
     "metadata": {},
     "output_type": "execute_result"
    }
   ],
   "source": [
    "k = [1,2,3]\n",
    "np.random.permutation(k)"
   ]
  },
  {
   "cell_type": "code",
   "execution_count": 190,
   "id": "5a6cbd1b",
   "metadata": {},
   "outputs": [
    {
     "name": "stdout",
     "output_type": "stream",
     "text": [
      "[[ 1  2  3  4]\n",
      " [ 5  6  7  8]\n",
      " [ 9 10 11 12]\n",
      " [13 14 15 16]]\n",
      "[[17 18 19 20]\n",
      " [21 22 23 24]\n",
      " [25 26 27 28]\n",
      " [29 30 31 32]]\n"
     ]
    }
   ],
   "source": [
    "arr1 = np.arange(1,17).reshape(4,4)\n",
    "print(arr1)\n",
    "arr2 = np.arange(17,33).reshape(4,4)\n",
    "print(arr2)"
   ]
  },
  {
   "cell_type": "code",
   "execution_count": 191,
   "id": "1dacedff",
   "metadata": {},
   "outputs": [
    {
     "data": {
      "text/plain": [
       "array([[ 1,  2,  3,  4],\n",
       "       [ 5,  6,  7,  8],\n",
       "       [ 9, 10, 11, 12],\n",
       "       [13, 14, 15, 16],\n",
       "       [17, 18, 19, 20],\n",
       "       [21, 22, 23, 24],\n",
       "       [25, 26, 27, 28],\n",
       "       [29, 30, 31, 32]])"
      ]
     },
     "execution_count": 191,
     "metadata": {},
     "output_type": "execute_result"
    }
   ],
   "source": [
    "#joining by column\n",
    "np.concatenate((arr1,arr2))"
   ]
  },
  {
   "cell_type": "code",
   "execution_count": 193,
   "id": "6c73c275",
   "metadata": {},
   "outputs": [
    {
     "data": {
      "text/plain": [
       "array([[ 1,  2,  3,  4, 17, 18, 19, 20],\n",
       "       [ 5,  6,  7,  8, 21, 22, 23, 24],\n",
       "       [ 9, 10, 11, 12, 25, 26, 27, 28],\n",
       "       [13, 14, 15, 16, 29, 30, 31, 32]])"
      ]
     },
     "execution_count": 193,
     "metadata": {},
     "output_type": "execute_result"
    }
   ],
   "source": [
    "np.concatenate((arr1,arr2),axis = 1) #joining row wise"
   ]
  },
  {
   "cell_type": "markdown",
   "id": "b0f27d4d",
   "metadata": {},
   "source": [
    "# Split()"
   ]
  },
  {
   "cell_type": "code",
   "execution_count": 195,
   "id": "cfbb7fda",
   "metadata": {},
   "outputs": [
    {
     "data": {
      "text/plain": [
       "[array([[ 1,  2,  3,  4,  5,  6,  7,  8,  9, 10],\n",
       "        [11, 12, 13, 14, 15, 16, 17, 18, 19, 20],\n",
       "        [21, 22, 23, 24, 25, 26, 27, 28, 29, 30],\n",
       "        [31, 32, 33, 34, 35, 36, 37, 38, 39, 40],\n",
       "        [41, 42, 43, 44, 45, 46, 47, 48, 49, 50]]),\n",
       " array([[ 51,  52,  53,  54,  55,  56,  57,  58,  59,  60],\n",
       "        [ 61,  62,  63,  64,  65,  66,  67,  68,  69,  70],\n",
       "        [ 71,  72,  73,  74,  75,  76,  77,  78,  79,  80],\n",
       "        [ 81,  82,  83,  84,  85,  86,  87,  88,  89,  90],\n",
       "        [ 91,  92,  93,  94,  95,  96,  97,  98,  99, 100]])]"
      ]
     },
     "execution_count": 195,
     "metadata": {},
     "output_type": "execute_result"
    }
   ],
   "source": [
    "np.split(array,2) #spliting array in two parts"
   ]
  },
  {
   "cell_type": "code",
   "execution_count": 8,
   "id": "0844425f",
   "metadata": {},
   "outputs": [
    {
     "name": "stdout",
     "output_type": "stream",
     "text": [
      "[[   2014       2 4338574       1]\n",
      " [   2202       2 3281929       3]\n",
      " [   1196       3 3898828       3]\n",
      " [   1687       2 3691393       4]\n",
      " [    691       3 1718358       4]\n",
      " [   1650       3 3630785       4]\n",
      " [   1764       2 2887085       5]\n",
      " [    669       3  693827       2]\n",
      " [   1989       3 1963206       5]\n",
      " [   1613       3 1066713       2]\n",
      " [   1201       3 4882230       4]\n",
      " [   1326       2 4541597       4]\n",
      " [    768       3 4669100       3]\n",
      " [   2161       3 4836820       3]\n",
      " [   2130       2 1009884       2]\n",
      " [   1714       3 2980594       3]\n",
      " [    792       2 1135332       3]\n",
      " [   2441       3  919522       5]\n",
      " [   2441       3  715621       3]\n",
      " [   2049       3 2588785       4]\n",
      " [   2078       2 2773366       1]\n",
      " [    940       3  433928       5]\n",
      " [   1639       3 2658422       3]\n",
      " [   1813       3 2255295       5]\n",
      " [   1433       2 2244634       5]\n",
      " [   2272       3 4119982       1]\n",
      " [   1463       3 2449753       3]\n",
      " [    824       3  653773       3]\n",
      " [   1910       3 1870639       3]\n",
      " [   1423       3 3590493       4]\n",
      " [   1321       2 1069424       2]\n",
      " [   1322       2 4552173       1]\n",
      " [    877       2 3392777       4]\n",
      " [   1894       2 3721245       1]\n",
      " [   2262       3 2121160       1]\n",
      " [   1440       2 2090620       4]\n",
      " [   1660       2 2358185       5]\n",
      " [    843       3  692399       2]\n",
      " [   2493       2 3129932       4]\n",
      " [    999       3 2500267       4]\n",
      " [   2120       2 2734389       1]\n",
      " [   1091       3 2263638       4]\n",
      " [   1484       3 3407884       2]\n",
      " [   2009       3 2161781       4]\n",
      " [   2298       2 3158492       2]\n",
      " [    806       3 4557773       4]\n",
      " [    628       2 3904946       1]\n",
      " [   1381       3 4781462       2]\n",
      " [   2166       3  924167       2]\n",
      " [   1376       3 2722999       3]\n",
      " [   2019       3 4007856       3]\n",
      " [   1524       2 2935964       1]\n",
      " [   1002       3 1680918       3]\n",
      " [    995       2  707077       3]\n",
      " [   1928       2 4049793       2]\n",
      " [   1820       2 2129309       5]\n",
      " [   1577       3 2339331       1]\n",
      " [   1651       2 2533535       2]\n",
      " [   1922       3 3314947       5]\n",
      " [   1002       2 4536696       1]\n",
      " [   1170       2 3069945       3]\n",
      " [    969       2 4376196       2]\n",
      " [    859       3 3274820       5]\n",
      " [   2443       3 3441049       1]\n",
      " [   1174       3 1907161       4]\n",
      " [   2061       3 2953669       1]\n",
      " [   1358       3 1046350       5]\n",
      " [    929       3 3846708       5]\n",
      " [   1461       3 1778797       1]\n",
      " [   2365       3 2820868       4]\n",
      " [   1687       3 2926533       1]\n",
      " [   1318       2 3408123       5]\n",
      " [   1668       3  633745       5]\n",
      " [   1241       2 2032193       4]\n",
      " [   1110       3 4400899       4]\n",
      " [   2119       3 3465143       1]\n",
      " [   2181       2 4197028       4]\n",
      " [   2079       3 1979745       3]\n",
      " [   1892       2 1212533       1]\n",
      " [   1174       3 2231478       4]\n",
      " [   2000       3 2593187       3]\n",
      " [    730       3 1498302       4]\n",
      " [   1769       3 2166579       3]\n",
      " [   1454       2 4756383       3]\n",
      " [   1596       2 3025292       2]\n",
      " [   2159       2 1056105       3]\n",
      " [    958       2 1268153       4]\n",
      " [   1870       3  949696       5]\n",
      " [   1380       3  701723       5]\n",
      " [    918       3  536654       1]\n",
      " [    817       2 2275067       5]\n",
      " [   1652       2 4687592       4]\n",
      " [   1712       3 1550284       4]\n",
      " [   1948       2 3534063       3]\n",
      " [   1112       3 1486089       1]\n",
      " [   2256       2 4599536       3]\n",
      " [   2163       3 2037295       4]\n",
      " [   1192       2  571811       1]\n",
      " [   1540       2 2501999       4]\n",
      " [    912       3 4346719       5]]\n"
     ]
    }
   ],
   "source": [
    "area = np.random.randint(600,2500,100)\n",
    "bhk = np.random.randint(2,4,100)\n",
    "price = np.random.randint(400000,5000000,100)\n",
    "balcony = np.random.randint(1,6,100)\n",
    "data = np.zeros((100,4),dtype=int)\n",
    "data[:,0] = area\n",
    "data[:,1] = bhk\n",
    "data[:,2] = price\n",
    "data[:,3] = balcony\n",
    "print(data)"
   ]
  }
 ],
 "metadata": {
  "kernelspec": {
   "display_name": "Python 3 (ipykernel)",
   "language": "python",
   "name": "python3"
  },
  "language_info": {
   "codemirror_mode": {
    "name": "ipython",
    "version": 3
   },
   "file_extension": ".py",
   "mimetype": "text/x-python",
   "name": "python",
   "nbconvert_exporter": "python",
   "pygments_lexer": "ipython3",
   "version": "3.11.3"
  }
 },
 "nbformat": 4,
 "nbformat_minor": 5
}
